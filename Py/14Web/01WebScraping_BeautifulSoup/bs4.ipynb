{
 "metadata": {
  "language_info": {
   "codemirror_mode": {
    "name": "ipython",
    "version": 3
   },
   "file_extension": ".py",
   "mimetype": "text/x-python",
   "name": "python",
   "nbconvert_exporter": "python",
   "pygments_lexer": "ipython3",
   "version": "3.8.8"
  },
  "orig_nbformat": 2,
  "kernelspec": {
   "name": "python3",
   "display_name": "Python 3.8.8 64-bit ('base': conda)"
  },
  "interpreter": {
   "hash": "b3ba2566441a7c06988d0923437866b63cedc61552a5af99d1f4fb67d367b25f"
  }
 },
 "nbformat": 4,
 "nbformat_minor": 2,
 "cells": [
  {
   "source": [
    "# BeautifulSoup\n",
    "- used for web scraping \n",
    "- it's a parser for html and xml\n",
    "- `pip install bs4` ; included in anaconda!!\n",
    "- [doc](https://www.crummy.com/software/BeautifulSoup/bs4/doc/)"
   ],
   "cell_type": "markdown",
   "metadata": {}
  },
  {
   "cell_type": "code",
   "execution_count": 1,
   "metadata": {},
   "outputs": [],
   "source": [
    "import bs4\n",
    "import requests\n",
    "import html5lib"
   ]
  },
  {
   "cell_type": "code",
   "execution_count": 3,
   "metadata": {},
   "outputs": [
    {
     "output_type": "execute_result",
     "data": {
      "text/plain": [
       "<Response [200]>"
      ]
     },
     "metadata": {},
     "execution_count": 3
    }
   ],
   "source": [
    "url = 'https://en.wikipedia.org/wiki/List_of_countries_and_dependencies_and_their_capitals_in_native_languages'\n",
    "res = requests.get(url)\n",
    "res"
   ]
  },
  {
   "cell_type": "code",
   "execution_count": 4,
   "metadata": {},
   "outputs": [
    {
     "output_type": "execute_result",
     "data": {
      "text/plain": [
       "bs4.BeautifulSoup"
      ]
     },
     "metadata": {},
     "execution_count": 4
    }
   ],
   "source": [
    "text = res.content\n",
    "# soup = bs4.BeautifulSoup(text) # full web c\n",
    "soup = bs4.BeautifulSoup(text, 'html5lib')\n",
    "type(soup)"
   ]
  },
  {
   "cell_type": "code",
   "execution_count": 9,
   "metadata": {},
   "outputs": [
    {
     "output_type": "execute_result",
     "data": {
      "text/plain": [
       "<title>List of countries and dependencies and their capitals in native languages - Wikipedia</title>"
      ]
     },
     "metadata": {},
     "execution_count": 9
    }
   ],
   "source": [
    "soup.title"
   ]
  },
  {
   "cell_type": "code",
   "execution_count": 11,
   "metadata": {},
   "outputs": [
    {
     "output_type": "execute_result",
     "data": {
      "text/plain": [
       "'List of countries and dependencies and their capitals in native languages - Wikipedia'"
      ]
     },
     "metadata": {},
     "execution_count": 11
    }
   ],
   "source": [
    "soup.title.text"
   ]
  },
  {
   "cell_type": "code",
   "execution_count": 12,
   "metadata": {},
   "outputs": [
    {
     "output_type": "execute_result",
     "data": {
      "text/plain": [
       "'List of countries and dependencies and their capitals in native languages'"
      ]
     },
     "metadata": {},
     "execution_count": 12
    }
   ],
   "source": [
    "soup.h1.text"
   ]
  },
  {
   "cell_type": "code",
   "execution_count": 15,
   "metadata": {},
   "outputs": [
    {
     "output_type": "execute_result",
     "data": {
      "text/plain": [
       "<p>The following chart lists <a href=\"/wiki/List_of_sovereign_states\" title=\"List of sovereign states\">countries</a> and <a href=\"/wiki/Dependent_territory\" title=\"Dependent territory\">dependencies</a> along with their <a class=\"mw-redirect\" href=\"/wiki/Capital_(political)\" title=\"Capital (political)\">capital</a> cities, in English as well as any additional <a href=\"/wiki/Official_language\" title=\"Official language\">official language</a>(s).\n",
       "</p>"
      ]
     },
     "metadata": {},
     "execution_count": 15
    }
   ],
   "source": [
    "soup.find('p')"
   ]
  },
  {
   "cell_type": "code",
   "execution_count": 16,
   "metadata": {},
   "outputs": [
    {
     "output_type": "execute_result",
     "data": {
      "text/plain": [
       "25"
      ]
     },
     "metadata": {},
     "execution_count": 16
    }
   ],
   "source": [
    "all_tables= soup.findAll('table',attrs={\"class\":\"wikitable\"})\n",
    "len(all_tables)"
   ]
  },
  {
   "source": [
    "<p align=\"center\">\n",
    "  <img width=\"800\" height=\"500\" src=\"img/table_info_1.jpg\">\n",
    "</p>\n"
   ],
   "cell_type": "markdown",
   "metadata": {}
  },
  {
   "cell_type": "code",
   "execution_count": 44,
   "metadata": {},
   "outputs": [
    {
     "output_type": "execute_result",
     "data": {
      "text/plain": [
       "'//upload.wikimedia.org/wikipedia/commons/thumb/9/9c/Flag_of_Denmark.svg/20px-Flag_of_Denmark.svg.png'"
      ]
     },
     "metadata": {},
     "execution_count": 44
    }
   ],
   "source": [
    "D_table = all_tables[3].find_all('tr')[1:] # skip first row which is headers\n",
    "all_tds = D_table[0].find_all('td')\n",
    "all_tds[0].img.attrs['src']"
   ]
  },
  {
   "cell_type": "code",
   "execution_count": 29,
   "metadata": {},
   "outputs": [
    {
     "output_type": "stream",
     "name": "stdout",
     "text": [
      " Denmark Copenhagen Danish\n\n"
     ]
    }
   ],
   "source": [
    "country = all_tds[0].text\n",
    "capital = all_tds[1].text\n",
    "language = all_tds[-1].text\n",
    "print(country,capital,language)"
   ]
  },
  {
   "source": [
    "**getting all info from 1 table**"
   ],
   "cell_type": "markdown",
   "metadata": {}
  },
  {
   "cell_type": "code",
   "execution_count": 35,
   "metadata": {},
   "outputs": [
    {
     "output_type": "stream",
     "name": "stdout",
     "text": [
      "country:   Denmark  capital:  Copenhagen  language: Danish\n\ncountry:   Djibouti  capital:  Djibouti  language: Arabic(Arabic script)FrenchSomaliAfar\n\ncountry:   Dominica  capital:  Roseau  language: English\n\ncountry:   Dominican Republic  capital:  Santo Domingo  language: Spanish\n\n"
     ]
    }
   ],
   "source": [
    "for tr in D_table:\n",
    "    all_tds= tr.find_all('td')\n",
    "\n",
    "    country = all_tds[0].text\n",
    "    capital = all_tds[1].text\n",
    "    language = all_tds[-1].text\n",
    "    print(\"country: \",country,\" capital: \",capital,\" language:\",language)"
   ]
  },
  {
   "cell_type": "code",
   "execution_count": null,
   "metadata": {},
   "outputs": [],
   "source": [
    "for one_table in all_tables:\n",
    "    all_rows = one_table.find_all('tr')[1:]\n",
    "    for tr in D_table:\n",
    "        all_tds= tr.find_all('td')\n",
    "        country = all_tds[0].text\n",
    "        capital = all_tds[1].text\n",
    "        language = all_tds[-1].text\n",
    "        print(\"country: \",country,\" capital: \",capital,\" language:\",language)"
   ]
  }
 ]
}