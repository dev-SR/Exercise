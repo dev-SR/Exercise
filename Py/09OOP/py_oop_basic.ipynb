{
 "metadata": {
  "language_info": {
   "codemirror_mode": {
    "name": "ipython",
    "version": 3
   },
   "file_extension": ".py",
   "mimetype": "text/x-python",
   "name": "python",
   "nbconvert_exporter": "python",
   "pygments_lexer": "ipython3",
   "version": "3.8.8"
  },
  "orig_nbformat": 2,
  "kernelspec": {
   "name": "python3",
   "display_name": "Python 3.8.8 64-bit ('base': conda)"
  },
  "interpreter": {
   "hash": "b3ba2566441a7c06988d0923437866b63cedc61552a5af99d1f4fb67d367b25f"
  }
 },
 "nbformat": 4,
 "nbformat_minor": 2,
 "cells": [
  {
   "source": [
    "# Basic OOP in python"
   ],
   "cell_type": "markdown",
   "metadata": {}
  },
  {
   "source": [
    "**Definig the constructor of a Class**\n",
    "\n",
    "- A constructor is a special member function of a class that is executed whenever we create new objects of the class.\n",
    "\n",
    "```python\n",
    "def __init__(self):\n",
    "    ...\n",
    "    ...\n",
    "```\n",
    "\n",
    "**Definig the methods of a instance**\n",
    "\n",
    "```\n",
    "def intro(self):\n",
    "    ...\n",
    "    ...\n",
    "```\n",
    "\n",
    "**Class Variable**\n",
    "\n",
    "- Class Variables are common to all instances\n",
    "- They are associated with the class\n",
    "- Accessed by `class_name.variable`\n",
    "\n",
    "**Magic Functions**\n",
    "\n",
    "- they are called automatically when some particular event occur\n",
    "\n",
    "- e.g. `__repr__`(toString) , `__init__`,, `__str__` "
   ],
   "cell_type": "markdown",
   "metadata": {}
  },
  {
   "cell_type": "code",
   "execution_count": 102,
   "metadata": {},
   "outputs": [],
   "source": [
    "class Human():\n",
    "\n",
    "    # class variable\n",
    "    database = []\n",
    "    population = 0\n",
    "    id_seq = 0\n",
    "\n",
    "    # constructor\n",
    "    def __init__(self,name,age,is_alive = True):\n",
    "        # instance variables\n",
    "        self.name = name\n",
    "        self.age = age\n",
    "        self.is_alive = is_alive\n",
    "        # \n",
    "        self.id = Human.id_seq\n",
    "        Human.id_seq += 1\n",
    "        Human.population += 1\n",
    "        Human.database.append(self)\n",
    "\n",
    "    # instance methods\n",
    "    def intro(self):\n",
    "        print(\"Hi, My name is\",self.name,\"My age is\",self.age)\n",
    "    \n",
    "    def die(self):\n",
    "        if self.is_alive:\n",
    "            print(self.name, \"is dying\")\n",
    "            self.is_alive = False\n",
    "            Human.population -= 1\n",
    "        else:\n",
    "            print(\"{} is already dead\".format(self.name))\n",
    "    \n",
    "    # Magic Function -> overriding __repr__ (toString equivalent)\n",
    "\n",
    "    def __repr__(self):\n",
    "        \"\"\"\n",
    "            represents the object...prints object\n",
    "        \"\"\"\n",
    "        return \"[{}, {}, {}, {}]\".format(self.id,self.name,self.age,self.is_alive)\n",
    "\n",
    "\n"
   ]
  },
  {
   "cell_type": "code",
   "execution_count": 103,
   "metadata": {},
   "outputs": [],
   "source": [
    "h1 = Human(\"soikat\",22)\n",
    "h2 = Human(\"Jhon\",69)"
   ]
  },
  {
   "cell_type": "code",
   "execution_count": 104,
   "metadata": {},
   "outputs": [
    {
     "output_type": "stream",
     "name": "stdout",
     "text": [
      "Hi, My name is soikat My age is 22\nHi, My name is Jhon My age is 69\n"
     ]
    }
   ],
   "source": [
    "h1.intro()\n",
    "h2.intro()"
   ]
  },
  {
   "cell_type": "code",
   "execution_count": 39,
   "metadata": {},
   "outputs": [
    {
     "output_type": "stream",
     "name": "stdout",
     "text": [
      "2\n2\n[<__main__.Human object at 0x000002294D374A00>, <__main__.Human object at 0x000002294D374E20>]\n<__main__.Human object at 0x000002294D374A00>\nJhon\n"
     ]
    }
   ],
   "source": [
    "# class variables:\n",
    "print(Human.population)\n",
    "print(Human.id_seq)\n",
    "# before overriding __repr__ magic function\n",
    "print(Human.database)\n",
    "print(Human.database[0])\n",
    "print(Human.database[1].name)"
   ]
  },
  {
   "cell_type": "code",
   "execution_count": 47,
   "metadata": {},
   "outputs": [
    {
     "output_type": "stream",
     "name": "stdout",
     "text": [
      "[0, soikat, 22, True]\n[[0, soikat, 22, True], [1, Jhon, 69, True]]\n[0, soikat, 22, True]\nJhon\n['__class__', '__delattr__', '__dict__', '__dir__', '__doc__', '__eq__', '__format__', '__ge__', '__getattribute__', '__gt__', '__hash__', '__init__', '__init_subclass__', '__le__', '__lt__', '__module__', '__ne__', '__new__', '__reduce__', '__reduce_ex__', '__repr__', '__setattr__', '__sizeof__', '__str__', '__subclasshook__', '__weakref__', 'database', 'die', 'id_seq', 'intro', 'population']\n"
     ]
    }
   ],
   "source": [
    "# after overriding __repr__ magic function\n",
    "print(h1)\n",
    "print(Human.database)\n",
    "print(Human.database[0])\n",
    "print(Human.database[1].name)\n",
    "print(dir(Human))"
   ]
  },
  {
   "cell_type": "code",
   "execution_count": 24,
   "metadata": {},
   "outputs": [
    {
     "output_type": "execute_result",
     "data": {
      "text/plain": [
       "True"
      ]
     },
     "metadata": {},
     "execution_count": 24
    }
   ],
   "source": [
    "h1.is_alive"
   ]
  },
  {
   "cell_type": "code",
   "execution_count": 25,
   "metadata": {},
   "outputs": [
    {
     "output_type": "stream",
     "name": "stdout",
     "text": [
      "soikat is dying\n"
     ]
    }
   ],
   "source": [
    "h1.die()"
   ]
  },
  {
   "cell_type": "code",
   "execution_count": 26,
   "metadata": {},
   "outputs": [
    {
     "output_type": "execute_result",
     "data": {
      "text/plain": [
       "False"
      ]
     },
     "metadata": {},
     "execution_count": 26
    }
   ],
   "source": [
    "h1.is_alive"
   ]
  },
  {
   "cell_type": "code",
   "execution_count": 27,
   "metadata": {},
   "outputs": [
    {
     "output_type": "stream",
     "name": "stdout",
     "text": [
      "soikat is already dead\n"
     ]
    }
   ],
   "source": [
    "h1.die()"
   ]
  },
  {
   "cell_type": "code",
   "execution_count": 28,
   "metadata": {},
   "outputs": [
    {
     "output_type": "execute_result",
     "data": {
      "text/plain": [
       "1"
      ]
     },
     "metadata": {},
     "execution_count": 28
    }
   ],
   "source": [
    "Human.population"
   ]
  },
  {
   "cell_type": "code",
   "execution_count": 31,
   "metadata": {},
   "outputs": [
    {
     "output_type": "stream",
     "name": "stdout",
     "text": [
      "['__class__', '__delattr__', '__dict__', '__dir__', '__doc__', '__eq__', '__format__', '__ge__', '__getattribute__', '__gt__', '__hash__', '__init__', '__init_subclass__', '__le__', '__lt__', '__module__', '__ne__', '__new__', '__reduce__', '__reduce_ex__', '__repr__', '__setattr__', '__sizeof__', '__str__', '__subclasshook__', '__weakref__', 'database', 'die', 'id_seq', 'intro', 'population']\n"
     ]
    }
   ],
   "source": [
    "print(dir(Human))"
   ]
  },
  {
   "source": [
    "## Inheritance \n",
    "\n",
    "-  a process where one class acquire all the methods and properties of another class\n",
    "\n",
    "**Parent Class** is the class being inherited, also called base class.\n",
    "**Child Class** is the class that inherits another class, also called derived class.\n",
    "\n",
    "Syntax :\n",
    "\n",
    "```python\n",
    "class ChildClassName(ParentClassName)\n",
    "```\n",
    "\n",
    "## Polymorphism\n",
    "\n",
    "- One function Name can have different functionality.\n",
    "\n",
    "**Function overriding** - If derived class defines same function in it's base class, it known as function overriding. This is used to achieve Polymorphism.\n",
    "\n"
   ],
   "cell_type": "markdown",
   "metadata": {}
  },
  {
   "cell_type": "code",
   "execution_count": 105,
   "metadata": {},
   "outputs": [],
   "source": [
    "# Child class\n",
    "class Hitman(Human):\n",
    "    # constructor\n",
    "\n",
    "    def __init__(self,name,age):\n",
    "        super().__init__(name,age)\n",
    "\n",
    "        # addtional hitman properties\n",
    "        self.kills  = 0\n",
    "        self.kills_list = []\n",
    "    \n",
    "    def kill(self,person):\n",
    "        \"\"\"\n",
    "        person will be an object of Human\n",
    "        \"\"\"\n",
    "        if person.is_alive:\n",
    "            print(\"{} is killing {}\".format(self.name,person.name))\n",
    "            person.die()\n",
    "            self.kills+=1\n",
    "            self.kills_list.append(person)\n",
    "        else:\n",
    "            print(\"{} is already dead.\".format(person.name))\n",
    "\n",
    "    # function overriding - Achieving Polymorphism:\n",
    "    def intro(self):\n",
    "        print(\"Hi, my nam is {}, I've killed {} people\".format(self.name,self.kills))\n"
   ]
  },
  {
   "cell_type": "code",
   "execution_count": 106,
   "metadata": {},
   "outputs": [
    {
     "output_type": "stream",
     "name": "stdout",
     "text": [
      "3\n[[0, soikat, 22, True], [1, Jhon, 69, True], [2, Bob, 10, True]]\n"
     ]
    }
   ],
   "source": [
    "h3 =  Human(\"Bob\",10)\n",
    "print(Human.population)\n",
    "print(Human.database)"
   ]
  },
  {
   "cell_type": "code",
   "execution_count": 107,
   "metadata": {},
   "outputs": [
    {
     "output_type": "stream",
     "name": "stdout",
     "text": [
      "[3, James, 40, True]\n4\n[[0, soikat, 22, True], [1, Jhon, 69, True], [2, Bob, 10, True], [3, James, 40, True]]\n"
     ]
    }
   ],
   "source": [
    "bond = Hitman(\"James\",40)\n",
    "print(bond)\n",
    "print(Human.population)\n",
    "print(Human.database)"
   ]
  },
  {
   "cell_type": "code",
   "execution_count": 108,
   "metadata": {},
   "outputs": [
    {
     "output_type": "stream",
     "name": "stdout",
     "text": [
      "4\n[[0, soikat, 22, True], [1, Jhon, 69, True], [2, Bob, 10, True], [3, James, 40, True]]\nJames is killing Bob\nBob is dying\n1\n[[2, Bob, 10, False]]\n"
     ]
    }
   ],
   "source": [
    "print(Human.population)\n",
    "print(Human.database)\n",
    "bond.kill(h3)\n",
    "print(bond.kills)\n",
    "print(bond.kills_list)"
   ]
  },
  {
   "cell_type": "code",
   "execution_count": 109,
   "metadata": {},
   "outputs": [
    {
     "output_type": "stream",
     "name": "stdout",
     "text": [
      "Bob is already dead.\n"
     ]
    }
   ],
   "source": [
    "bond.kill(h3)"
   ]
  },
  {
   "cell_type": "code",
   "execution_count": 110,
   "metadata": {},
   "outputs": [
    {
     "output_type": "stream",
     "name": "stdout",
     "text": [
      "Hi, My name is Jhon My age is 69\nHi, my nam is James, I've killed 1 people\n"
     ]
    }
   ],
   "source": [
    "# Polymorphism \n",
    "h2.intro()\n",
    "bond.intro()"
   ]
  },
  {
   "cell_type": "code",
   "execution_count": null,
   "metadata": {},
   "outputs": [],
   "source": []
  }
 ]
}