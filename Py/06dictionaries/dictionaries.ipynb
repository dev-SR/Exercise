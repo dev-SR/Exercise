{
 "metadata": {
  "language_info": {
   "codemirror_mode": {
    "name": "ipython",
    "version": 3
   },
   "file_extension": ".py",
   "mimetype": "text/x-python",
   "name": "python",
   "nbconvert_exporter": "python",
   "pygments_lexer": "ipython3",
   "version": "3.8.8"
  },
  "orig_nbformat": 2,
  "kernelspec": {
   "name": "python3",
   "display_name": "Python 3.8.8 64-bit ('base': conda)"
  },
  "interpreter": {
   "hash": "b3ba2566441a7c06988d0923437866b63cedc61552a5af99d1f4fb67d367b25f"
  }
 },
 "nbformat": 4,
 "nbformat_minor": 2,
 "cells": [
  {
   "source": [
    "# Dictionary\n",
    "\n",
    "- stores data in key-value pair\n",
    "- unordered \n",
    "- unindexable\n",
    "- access the values, with help of keys\n"
   ],
   "cell_type": "markdown",
   "metadata": {}
  },
  {
   "cell_type": "code",
   "execution_count": 1,
   "metadata": {},
   "outputs": [
    {
     "output_type": "stream",
     "name": "stdout",
     "text": [
      "{'name': 'Soikat', 'age': 69}\n"
     ]
    },
    {
     "output_type": "execute_result",
     "data": {
      "text/plain": [
       "dict"
      ]
     },
     "metadata": {},
     "execution_count": 1
    }
   ],
   "source": [
    "user_info = {\n",
    "    \"name\": \"Soikat\",\n",
    "    \"age\":69,\n",
    "}\n",
    "print(user_info)\n",
    "type(user_info)"
   ]
  },
  {
   "cell_type": "code",
   "execution_count": 5,
   "metadata": {},
   "outputs": [
    {
     "output_type": "stream",
     "name": "stdout",
     "text": [
      "Soikat\n69\n"
     ]
    }
   ],
   "source": [
    "# accessing elements\n",
    "print(user_info['name'])\n",
    "print(user_info['age'])"
   ]
  },
  {
   "cell_type": "code",
   "execution_count": 6,
   "metadata": {},
   "outputs": [
    {
     "output_type": "error",
     "ename": "KeyError",
     "evalue": "'loves'",
     "traceback": [
      "\u001b[1;31m---------------------------------------------------------------------------\u001b[0m",
      "\u001b[1;31mKeyError\u001b[0m                                  Traceback (most recent call last)",
      "\u001b[1;32m<ipython-input-6-af324ebbdb71>\u001b[0m in \u001b[0;36m<module>\u001b[1;34m\u001b[0m\n\u001b[0;32m      1\u001b[0m \u001b[1;31m# unkown key gives error\u001b[0m\u001b[1;33m\u001b[0m\u001b[1;33m\u001b[0m\u001b[1;33m\u001b[0m\u001b[0m\n\u001b[1;32m----> 2\u001b[1;33m \u001b[0mprint\u001b[0m\u001b[1;33m(\u001b[0m\u001b[0muser_info\u001b[0m\u001b[1;33m[\u001b[0m\u001b[1;34m'loves'\u001b[0m\u001b[1;33m]\u001b[0m\u001b[1;33m)\u001b[0m\u001b[1;33m\u001b[0m\u001b[1;33m\u001b[0m\u001b[0m\n\u001b[0m",
      "\u001b[1;31mKeyError\u001b[0m: 'loves'"
     ]
    }
   ],
   "source": [
    "# unkown key gives error\n",
    "print(user_info['loves'])"
   ]
  },
  {
   "cell_type": "code",
   "execution_count": 3,
   "metadata": {},
   "outputs": [
    {
     "output_type": "stream",
     "name": "stdout",
     "text": [
      "None\ndefault_value\n"
     ]
    }
   ],
   "source": [
    "# no error with .get()\n",
    "user_info.get('loves')\n",
    "u = user_info.get('loves')\n",
    "print(u)\n",
    "\n",
    "u = user_info.get('loves','default_value')\n",
    "print(u)"
   ]
  },
  {
   "cell_type": "code",
   "execution_count": 15,
   "metadata": {},
   "outputs": [
    {
     "output_type": "stream",
     "name": "stdout",
     "text": [
      "{'name': 'Soikat', 'age': 69, 'hobby': ['Gamming', 'Coding', 'Football']}\n"
     ]
    }
   ],
   "source": [
    "# add data into dict\n",
    "user_info['hobby'] = ['Gamming','Coding','Football']\n",
    "print(user_info) "
   ]
  },
  {
   "cell_type": "code",
   "execution_count": 20,
   "metadata": {},
   "outputs": [
    {
     "output_type": "execute_result",
     "data": {
      "text/plain": [
       "dict_keys(['name', 'age', 'hobby'])"
      ]
     },
     "metadata": {},
     "execution_count": 20
    }
   ],
   "source": [
    "# displays all keys\n",
    "user_info.keys()"
   ]
  },
  {
   "cell_type": "code",
   "execution_count": 21,
   "metadata": {},
   "outputs": [
    {
     "output_type": "execute_result",
     "data": {
      "text/plain": [
       "dict_values(['Soikat', 69, ['Gamming', 'Coding', 'Football']])"
      ]
     },
     "metadata": {},
     "execution_count": 21
    }
   ],
   "source": [
    "# displays all values\n",
    "user_info.values()"
   ]
  },
  {
   "cell_type": "code",
   "execution_count": 22,
   "metadata": {},
   "outputs": [
    {
     "output_type": "execute_result",
     "data": {
      "text/plain": [
       "dict_items([('name', 'Soikat'), ('age', 69), ('hobby', ['Gamming', 'Coding', 'Football'])])"
      ]
     },
     "metadata": {},
     "execution_count": 22
    }
   ],
   "source": [
    "# displays (key,value) pair in tuples\n",
    "user_info.items()"
   ]
  },
  {
   "cell_type": "code",
   "execution_count": 17,
   "metadata": {},
   "outputs": [
    {
     "output_type": "stream",
     "name": "stdout",
     "text": [
      "name  :  Soikat\nage  :  69\nhobby  :  ['Gamming', 'Coding', 'Football']\n\nname  :  Soikat\nage  :  69\nhobby  :  ['Gamming', 'Coding', 'Football']\n"
     ]
    }
   ],
   "source": [
    "# iterate\n",
    "for k,v in user_info.items():\n",
    "    print(k,\" : \",v)\n",
    "\n",
    "print()\n",
    "\n",
    "for k in user_info:\n",
    "    print(k,\" : \",user_info[k])"
   ]
  },
  {
   "cell_type": "code",
   "execution_count": 18,
   "metadata": {},
   "outputs": [
    {
     "output_type": "stream",
     "name": "stdout",
     "text": [
      "['Gamming', 'Coding', 'Football']\n{'name': 'Soikat', 'age': 69}\n{'name': 'Soikat'}\n"
     ]
    }
   ],
   "source": [
    "# delete key with value\n",
    "deleted_value = user_info.pop('hobby')\n",
    "print(deleted_value)\n",
    "print(user_info)\n",
    "\n",
    "del user_info[\"age\"]\n",
    "print(user_info)"
   ]
  },
  {
   "cell_type": "code",
   "execution_count": 19,
   "metadata": {},
   "outputs": [
    {
     "output_type": "stream",
     "name": "stdout",
     "text": [
      "{'name': 'DevSR'}\n"
     ]
    }
   ],
   "source": [
    "# update\n",
    "user_info['name'] = \"DevSR\"\n",
    "print(user_info)"
   ]
  },
  {
   "source": [
    "## Dictionary Comprehensions"
   ],
   "cell_type": "markdown",
   "metadata": {}
  },
  {
   "cell_type": "code",
   "execution_count": 6,
   "metadata": {},
   "outputs": [
    {
     "output_type": "stream",
     "name": "stdout",
     "text": [
      "[0, 2, 4, 6, 8]\n[0, 2, 4, 6]\n\n{0: 0, 1: 2, 2: 4, 3: 6}\n"
     ]
    }
   ],
   "source": [
    "values = []\n",
    "for x in range(5):\n",
    "    values.append(x*2)\n",
    "print(values)\n",
    "\n",
    "# using list comprehensions:\n",
    "values = [x*2 for x in range(4)]\n",
    "print(values)\n",
    "\n",
    "print()\n",
    "\n",
    "# dict comprehensions:\n",
    "# values = {}\n",
    "# for x in range(5):\n",
    "#     values[x] = x*2\n",
    "values = {x: x*2 for x in range(4)}\n",
    "print(values)"
   ]
  }
 ]
}