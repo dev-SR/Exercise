{
 "metadata": {
  "language_info": {
   "codemirror_mode": {
    "name": "ipython",
    "version": 3
   },
   "file_extension": ".py",
   "mimetype": "text/x-python",
   "name": "python",
   "nbconvert_exporter": "python",
   "pygments_lexer": "ipython3",
   "version": "3.8.8"
  },
  "orig_nbformat": 2,
  "kernelspec": {
   "name": "python388jvsc74a57bd0b3ba2566441a7c06988d0923437866b63cedc61552a5af99d1f4fb67d367b25f",
   "display_name": "Python 3.8.8 64-bit ('base': conda)"
  }
 },
 "nbformat": 4,
 "nbformat_minor": 2,
 "cells": [
  {
   "source": [
    "# LIST"
   ],
   "cell_type": "markdown",
   "metadata": {}
  },
  {
   "cell_type": "code",
   "execution_count": 11,
   "metadata": {},
   "outputs": [
    {
     "output_type": "stream",
     "name": "stdout",
     "text": [
      "Java\nC\nC++\nKotlin\nTypeScript\n\nat 3: C++\nfirst 2 item: ['Java', 'C']\nlast: TypeScript\n\n2\n8\n4\n"
     ]
    }
   ],
   "source": [
    "programming_lan= [\"Java\",\"C\",\"C++\",\"Kotlin\",\"TypeScript\"]\n",
    "\n",
    "# looping\n",
    "for lan in programming_lan:\n",
    "    print(lan)\n",
    "\n",
    "# accessing List\n",
    "print()\n",
    "print(f\"at 3: {programming_lan[2]}\") \n",
    "print(f\"first 2 item: {programming_lan[0:2]}\") \n",
    "print(f\"last: {programming_lan[-1]}\") \n",
    "\n",
    "#common methods:\n",
    "print()\n",
    "l=[2,4,6,8]\n",
    "print(min(l))\n",
    "print(max(l))\n",
    "print(len(l))\n",
    "\n"
   ]
  },
  {
   "source": [
    "## Appending"
   ],
   "cell_type": "markdown",
   "metadata": {}
  },
  {
   "cell_type": "code",
   "execution_count": 19,
   "metadata": {},
   "outputs": [
    {
     "output_type": "stream",
     "name": "stdout",
     "text": [
      "Please add options from the list below:\n",
      "1:Java\n",
      "2:C\n",
      "3:C++\n",
      "4:Kotlin\n",
      "5:TypeScript\n",
      "\n",
      "Adding 1\n",
      "Adding 1\n",
      "Adding 2\n",
      "Adding 3\n",
      "Selected Language: ['Java', 'Java', 'C', 'C++']\n"
     ]
    }
   ],
   "source": [
    "op =\"xx\"\n",
    "lan = []\n",
    "\n",
    "while op !='0':\n",
    "    if op in \"12345\":\n",
    "        print(f\"Adding {op}\")\n",
    "        if op == '1':\n",
    "            lan.append(\"Java\")\n",
    "        elif op =='2':\n",
    "            lan.append(\"C\")\n",
    "        elif op =='3':\n",
    "            lan.append(\"C++\")\n",
    "        elif op =='4':\n",
    "            lan.append(\"Kotlin\")\n",
    "        elif op =='5':\n",
    "            lan.append(\"TypeScript\")\n",
    "    else:\n",
    "        print(\"Please add options from the list below:\")\n",
    "        print(\"1:Java\")\n",
    "        print(\"2:C\")\n",
    "        print(\"3:C++\")\n",
    "        print(\"4:Kotlin\")\n",
    "        print(\"5:TypeScript\")\n",
    "        print()\n",
    "    \n",
    "    op = input()\n",
    "\n",
    "print(f\"Selected Language: {lan}\")\n",
    "      "
   ]
  },
  {
   "source": [
    "## Built-in Function:"
   ],
   "cell_type": "markdown",
   "metadata": {}
  },
  {
   "source": [
    "### enumerate():\n",
    "##### returns each item with its index postion."
   ],
   "cell_type": "markdown",
   "metadata": {}
  },
  {
   "cell_type": "code",
   "execution_count": 22,
   "metadata": {},
   "outputs": [
    {
     "output_type": "stream",
     "name": "stdout",
     "text": [
      "(0, 'Java')\n(1, 'C')\n(2, 'C++')\n(3, 'Kotlin')\n(4, 'TypeScript')\n\n1: Java\n2: C\n3: C++\n4: Kotlin\n5: TypeScript\n"
     ]
    }
   ],
   "source": [
    "programming_lan= [\"Java\",\"C\",\"C++\",\"Kotlin\",\"TypeScript\"]\n",
    "\n",
    "# looping\n",
    "for lan in enumerate(programming_lan):\n",
    "    print(lan)\n",
    "\n",
    "print()\n",
    "\n",
    "for i,v in enumerate(programming_lan):\n",
    "    print(f\"{i+1}: {v}\")\n",
    "\n",
    "str"
   ]
  },
  {
   "source": [
    "### any(iterable)\n",
    "##### returns True if any element of the iterable is true. "
   ],
   "cell_type": "markdown",
   "metadata": {}
  },
  {
   "cell_type": "code",
   "execution_count": 22,
   "metadata": {},
   "outputs": [
    {
     "output_type": "stream",
     "name": "stdout",
     "text": [
      "True\nFalse\nFalse\n"
     ]
    }
   ],
   "source": [
    "print(any([1,0]))\n",
    "print(any([False,0,\"\",]))\n",
    "print(any([]))"
   ]
  },
  {
   "source": [
    "## Sorting"
   ],
   "cell_type": "markdown",
   "metadata": {}
  },
  {
   "cell_type": "code",
   "execution_count": 42,
   "metadata": {},
   "outputs": [
    {
     "output_type": "stream",
     "name": "stdout",
     "text": [
      "[5, 4, 3, 2, 1]\n[1, 2, 3, 4, 5]\n[5, 4, 3, 2, 1]\n['B', 'D', 'a', 'c', 'e']\n['a', 'B', 'c', 'D', 'e']\n"
     ]
    }
   ],
   "source": [
    "l=[1,2,3,4,5]\n",
    "\n",
    "l.sort(reverse=True)\n",
    "print(l)\n",
    "l.sort()\n",
    "print(l)\n",
    "\n",
    "# sorted() returns new list\n",
    "sorted_list =sorted(l,reverse=True)\n",
    "print(sorted_list)\n",
    "\n",
    "# Case-Insensitive Sorting\n",
    "l=['a','B','e','D','c']\n",
    "l.sort()\n",
    "print(l)\n",
    "l.sort(key=str.casefold)\n",
    "print(l)\n"
   ]
  },
  {
   "source": [
    "## Generating List"
   ],
   "cell_type": "markdown",
   "metadata": {}
  },
  {
   "cell_type": "code",
   "execution_count": 13,
   "metadata": {},
   "outputs": [
    {
     "output_type": "stream",
     "name": "stdout",
     "text": [
      "['1', '2', '3', '4', '5', '6', '7', '8', '9']\n\n['10', '11', '12', '13', '14']\n"
     ]
    }
   ],
   "source": [
    "lists =[]\n",
    "for i in range(1,10):\n",
    "    lists.append(str(i))\n",
    "print(lists)\n",
    "\n",
    "print()\n",
    "\n",
    "lists = [str(i) for i in range(10,15)]\n",
    "print(lists)"
   ]
  },
  {
   "source": [
    "## Creating List"
   ],
   "cell_type": "markdown",
   "metadata": {}
  },
  {
   "cell_type": "code",
   "execution_count": 53,
   "metadata": {},
   "outputs": [
    {
     "output_type": "stream",
     "name": "stdout",
     "text": [
      "[1, 2, 3, 4, 5, 6]\n\n[6, 5, 4, 3, 2, 1]\n\n[1, 2, 3, 4, 5, 6]\n[1, 2, 3, 4, 5, 6]\n"
     ]
    }
   ],
   "source": [
    "l1 = [1,2,3]\n",
    "l2= [4,5,6]\n",
    "l=l1+l2\n",
    "print(l)\n",
    "print()\n",
    "\n",
    "l3=sorted(l,reverse=True)\n",
    "print(l3)\n",
    "\n",
    "# digits = list('22')\n",
    "# print(digits)\n",
    "\n",
    "print()\n",
    "copy = l[:]\n",
    "print(copy)\n",
    "copy =l.copy()\n",
    "print(copy)\n",
    "# copy() is more efficient "
   ]
  }
 ]
}