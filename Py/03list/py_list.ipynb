{
 "metadata": {
  "language_info": {
   "codemirror_mode": {
    "name": "ipython",
    "version": 3
   },
   "file_extension": ".py",
   "mimetype": "text/x-python",
   "name": "python",
   "nbconvert_exporter": "python",
   "pygments_lexer": "ipython3",
   "version": "3.8.8"
  },
  "orig_nbformat": 2,
  "kernelspec": {
   "name": "python3",
   "display_name": "Python 3.8.8 64-bit ('base': conda)"
  },
  "interpreter": {
   "hash": "b3ba2566441a7c06988d0923437866b63cedc61552a5af99d1f4fb67d367b25f"
  }
 },
 "nbformat": 4,
 "nbformat_minor": 2,
 "cells": [
  {
   "source": [
    "# LIST\n",
    "\n",
    "### Indexing/Slicing of List works same as String\n"
   ],
   "cell_type": "markdown",
   "metadata": {}
  },
  {
   "cell_type": "code",
   "execution_count": 20,
   "metadata": {},
   "outputs": [
    {
     "output_type": "stream",
     "name": "stdout",
     "text": [
      "1\n6\n[2, 3, 4, 5]\n[5, 2, 3, 4, 5, 6]\n"
     ]
    }
   ],
   "source": [
    "\n",
    "l = [1,2,3,4,5,6]\n",
    "\n",
    "print(l[0])\n",
    "print(l[-1])\n",
    "print(l[1:-1])\n",
    "\n",
    "# because of mutable property\n",
    "l[0] = 5\n",
    "print(l)"
   ]
  },
  {
   "cell_type": "code",
   "execution_count": 1,
   "metadata": {},
   "outputs": [
    {
     "output_type": "stream",
     "name": "stdout",
     "text": [
      "[0, 2, 4, 6, 8, 10, 12, 14, 16, 18]\n"
     ]
    }
   ],
   "source": [
    "numbers = list(range(20))\n",
    "print(numbers[::2])"
   ]
  },
  {
   "source": [
    "### List Unpacking"
   ],
   "cell_type": "markdown",
   "metadata": {}
  },
  {
   "cell_type": "code",
   "execution_count": 29,
   "metadata": {},
   "outputs": [
    {
     "output_type": "stream",
     "name": "stdout",
     "text": [
      "0\n1\n[2, 3, 4]\n0\n4\n[1, 2, 3]\n"
     ]
    }
   ],
   "source": [
    "# rest equivalent\n",
    "n = list(range(5))\n",
    "first,second,*other =n\n",
    "\n",
    "print(first)\n",
    "print(second)\n",
    "print(other)\n",
    "\n",
    "first,*other,last =n\n",
    "\n",
    "print(first)\n",
    "print(last)\n",
    "print(other)"
   ]
  },
  {
   "source": [
    "### iteration"
   ],
   "cell_type": "markdown",
   "metadata": {}
  },
  {
   "cell_type": "code",
   "execution_count": 31,
   "metadata": {},
   "outputs": [
    {
     "output_type": "stream",
     "name": "stdout",
     "text": [
      "True\nJava\nC\nC++\nKotlin\nTypeScript\n\n(0, 'Java')\n(1, 'C')\n(2, 'C++')\n(3, 'Kotlin')\n(4, 'TypeScript')\n\n1: Java\n2: C\n3: C++\n4: Kotlin\n5: TypeScript\n"
     ]
    }
   ],
   "source": [
    "programming_lan= [\"Java\",\"C\",\"C++\",\"Kotlin\",\"TypeScript\"]\n",
    "\n",
    "v = \"C\" in programming_lan\n",
    "print(v)\n",
    "\n",
    "# looping\n",
    "for lan in programming_lan:\n",
    "    print(lan)\n",
    "\n",
    "print()\n",
    "\n",
    "# looping with enumerate()\n",
    "for lan in enumerate(programming_lan):\n",
    "    print(lan)\n",
    "\n",
    "print()\n",
    "# also returns each item with its index postion.\n",
    "for i,v in enumerate(programming_lan):\n",
    "    print(f\"{i+1}: {v}\")\n"
   ]
  },
  {
   "source": [
    "## Some methods for list "
   ],
   "cell_type": "markdown",
   "metadata": {}
  },
  {
   "source": [
    "### add"
   ],
   "cell_type": "markdown",
   "metadata": {}
  },
  {
   "cell_type": "code",
   "execution_count": 21,
   "metadata": {},
   "outputs": [
    {
     "output_type": "stream",
     "name": "stdout",
     "text": [
      "[5, 2, 3, 4, 5, 6, 33]\n[5, 10, 2, 3, 4, 5, 6, 33]\n"
     ]
    }
   ],
   "source": [
    "# add the given element at the end of the list\n",
    "l.append(33)\n",
    "print(l)\n",
    "# insert 10 at index 1\n",
    "l.insert(1,10)\n",
    "print(l)\n"
   ]
  },
  {
   "source": [
    "### remove"
   ],
   "cell_type": "markdown",
   "metadata": {}
  },
  {
   "cell_type": "code",
   "execution_count": 22,
   "metadata": {},
   "outputs": [
    {
     "output_type": "stream",
     "name": "stdout",
     "text": [
      "[5, 10, 2, 3, 4, 5, 6]\n[5, 2, 3, 4, 5, 6]\n[2, 3, 4, 5, 6]\n[5, 6]\n[]\n"
     ]
    }
   ],
   "source": [
    "# pop():\n",
    "# delete the last element\n",
    "# can also delete from specified index\n",
    "l.pop()\n",
    "print(l)\n",
    "l.pop(1)\n",
    "print(l)\n",
    "\n",
    "# remove()\n",
    "l.remove(5)\n",
    "print(l)\n",
    "\n",
    "del l[0:3]\n",
    "print(l)\n",
    "\n",
    "l.clear()\n",
    "print(l)"
   ]
  },
  {
   "cell_type": "code",
   "execution_count": 25,
   "metadata": {},
   "outputs": [
    {
     "output_type": "stream",
     "name": "stdout",
     "text": [
      "[6, 5, 4, 3, 2]\n"
     ]
    }
   ],
   "source": [
    "# reverse\n",
    "l.reverse()\n",
    "print(l)"
   ]
  },
  {
   "source": [
    "### Finding Items"
   ],
   "cell_type": "markdown",
   "metadata": {}
  },
  {
   "cell_type": "code",
   "execution_count": 35,
   "metadata": {},
   "outputs": [
    {
     "output_type": "stream",
     "name": "stdout",
     "text": [
      "0\n1\n"
     ]
    }
   ],
   "source": [
    "letters = [\"a\",\"b\",\"c\"]\n",
    "print(letters.count(\"d\"))\n",
    "\n",
    "if \"b\" in letters:\n",
    "    print(letters.index(\"b\"))"
   ]
  },
  {
   "source": [
    "## 2D list "
   ],
   "cell_type": "markdown",
   "metadata": {}
  },
  {
   "cell_type": "code",
   "execution_count": 33,
   "metadata": {},
   "outputs": [
    {
     "output_type": "stream",
     "name": "stdout",
     "text": [
      "[[1, 2, 3], [4, 5, 6], [7, 8, 9]]\n[4, 5, 6]\n4\n"
     ]
    }
   ],
   "source": [
    "list_2d = [[1,2,3],[4,5,6,],[7,8,9]]\n",
    "print(list_2d)\n",
    "\n",
    "# accessing element in 2D list\n",
    "print(list_2d[1])\n",
    "print(list_2d[1][0])\n"
   ]
  },
  {
   "source": [
    "## Sorting"
   ],
   "cell_type": "markdown",
   "metadata": {}
  },
  {
   "cell_type": "code",
   "execution_count": 42,
   "metadata": {},
   "outputs": [
    {
     "output_type": "stream",
     "name": "stdout",
     "text": [
      "[5, 4, 3, 2, 1]\n[1, 2, 3, 4, 5]\n[5, 4, 3, 2, 1]\n['B', 'D', 'a', 'c', 'e']\n['a', 'B', 'c', 'D', 'e']\n"
     ]
    }
   ],
   "source": [
    "l=[1,2,3,4,5]\n",
    "\n",
    "l.sort(reverse=True)\n",
    "print(l)\n",
    "l.sort()\n",
    "print(l)\n",
    "\n",
    "# sorted() returns new list\n",
    "sorted_list =sorted(l,reverse=True)\n",
    "print(sorted_list)\n",
    "\n",
    "# Case-Insensitive Sorting\n",
    "l=['a','B','e','D','c']\n",
    "l.sort()\n",
    "print(l)\n",
    "l.sort(key=str.casefold)\n",
    "print(l)\n"
   ]
  },
  {
   "cell_type": "code",
   "execution_count": 40,
   "metadata": {},
   "outputs": [
    {
     "output_type": "stream",
     "name": "stdout",
     "text": [
      "[('product 2', 5), ('product 1', 10), ('product 5', 23), ('product 4', 45)]\n"
     ]
    }
   ],
   "source": [
    "items = [\n",
    "    (\"product 1\",10),\n",
    "    (\"product 2\",5),\n",
    "    (\"product 4\",45),\n",
    "    (\"product 5\",23),\n",
    "]\n",
    "\n",
    "def sorted_item(i):\n",
    "    return i[1] #return price\n",
    "\n",
    "items.sort(key=sorted_item)\n",
    "print(items)"
   ]
  },
  {
   "source": [
    "#### Using lembda:\n",
    "\n",
    "syntax:\n",
    "\n",
    "`lembda parameters:expression` "
   ],
   "cell_type": "markdown",
   "metadata": {}
  },
  {
   "cell_type": "code",
   "execution_count": 41,
   "metadata": {},
   "outputs": [
    {
     "output_type": "stream",
     "name": "stdout",
     "text": [
      "[('product 2', 5), ('product 1', 10), ('product 5', 23), ('product 4', 45)]\n"
     ]
    }
   ],
   "source": [
    "items = [\n",
    "    (\"product 1\",10),\n",
    "    (\"product 2\",5),\n",
    "    (\"product 4\",45),\n",
    "    (\"product 5\",23),\n",
    "]\n",
    "# def sorted_item(i):\n",
    "#     return i[1]\n",
    "items.sort(key=lambda i:i[1])\n",
    "print(items)"
   ]
  },
  {
   "source": [
    "## Map Function"
   ],
   "cell_type": "markdown",
   "metadata": {}
  },
  {
   "cell_type": "code",
   "execution_count": 48,
   "metadata": {},
   "outputs": [
    {
     "output_type": "stream",
     "name": "stdout",
     "text": [
      "[10, 5, 45, 23]\n\n<class 'map'>\n[10, 5, 45, 23]\n"
     ]
    }
   ],
   "source": [
    "items = [\n",
    "    (\"product 1\",10),\n",
    "    (\"product 2\",5),\n",
    "    (\"product 4\",45),\n",
    "    (\"proeduct 5\",23),\n",
    "]\n",
    "# extracting price from list of tuples\n",
    "prices = []\n",
    "for item in items:\n",
    "    prices.append(item[1])\n",
    "\n",
    "print(prices)\n",
    "print()\n",
    "# using map\n",
    "prices_mapped = map(lambda item:item[1],items)\n",
    "print(type(prices_mapped))\n",
    "prices = list(prices_mapped)\n",
    "print(prices)"
   ]
  },
  {
   "source": [
    "## Filter Function"
   ],
   "cell_type": "markdown",
   "metadata": {}
  },
  {
   "cell_type": "code",
   "execution_count": 54,
   "metadata": {},
   "outputs": [
    {
     "output_type": "stream",
     "name": "stdout",
     "text": [
      "[('product 1', 10), ('product 4', 45), ('proeduct 5', 23)]\n"
     ]
    }
   ],
   "source": [
    "filtered = list(filter(lambda item:item[1]>=10,items ))\n",
    "print(filtered)"
   ]
  },
  {
   "source": [
    "## List Comprehension\n",
    "\n",
    "`[expression for item in list]`\n",
    "\n",
    "```python\n",
    "letters = list(map(lambda x: x, 'human'))\n",
    "print(letters) # ['h','u','m','a','n']\n",
    "\n",
    "```"
   ],
   "cell_type": "markdown",
   "metadata": {}
  },
  {
   "cell_type": "code",
   "execution_count": 28,
   "metadata": {},
   "outputs": [
    {
     "output_type": "stream",
     "name": "stdout",
     "text": [
      "[1, 4, 9, 16, 25, 36]\n[1, 16, 81, 256, 625, 1296]\n"
     ]
    }
   ],
   "source": [
    "l = [1,2,3,4,5,6]\n",
    "# creating a new list of squares of each element\n",
    "new_l = []\n",
    "for el in l:\n",
    "    new_l.append(el**2)\n",
    "\n",
    "print(new_l)\n",
    "\n",
    "# With List Comprehension:\n",
    "\n",
    "new_l = [el**2 for el in new_l] # [(What to Store ) for each element of list]\n",
    "print(new_l)\n"
   ]
  },
  {
   "source": [
    "### Replacing Map and Filter function with list comprehension"
   ],
   "cell_type": "markdown",
   "metadata": {}
  },
  {
   "cell_type": "code",
   "execution_count": 56,
   "metadata": {},
   "outputs": [
    {
     "output_type": "stream",
     "name": "stdout",
     "text": [
      "[10, 5, 45, 23]\n[('product 1', 10), ('product 4', 45), ('proeduct 5', 23)]\n"
     ]
    }
   ],
   "source": [
    "items = [\n",
    "    (\"product 1\",10),\n",
    "    (\"product 2\",5),\n",
    "    (\"product 4\",45),\n",
    "    (\"proeduct 5\",23),\n",
    "]\n",
    "\n",
    "# prices = list(map(lambda item:item[1],items))\n",
    "prices = [item[1] for item in items]\n",
    "# filtered = list(filter(lambda item:item[1]>=10,items ))\n",
    "filtered = [item for item in items if item[1] >= 10]\n",
    "\n",
    "\n",
    "print(prices)\n",
    "print(filtered)"
   ]
  },
  {
   "source": [
    "## Zip Function"
   ],
   "cell_type": "markdown",
   "metadata": {}
  },
  {
   "cell_type": "code",
   "execution_count": 57,
   "metadata": {},
   "outputs": [
    {
     "output_type": "stream",
     "name": "stdout",
     "text": [
      "[(1, 10), (2, 20), (3, 30)]\n[('a', 1, 10), ('b', 2, 20), ('c', 3, 30)]\n"
     ]
    }
   ],
   "source": [
    "l1 = [1,2,3]\n",
    "l2= [10,20,30]\n",
    "\n",
    "print(list(zip(l1,l2)))\n",
    "print(list(zip(\"abc\",l1,l2)))"
   ]
  },
  {
   "source": [
    "# Examples"
   ],
   "cell_type": "markdown",
   "metadata": {}
  },
  {
   "cell_type": "code",
   "execution_count": 19,
   "metadata": {},
   "outputs": [
    {
     "output_type": "stream",
     "name": "stdout",
     "text": [
      "Please add options from the list below:\n",
      "1:Java\n",
      "2:C\n",
      "3:C++\n",
      "4:Kotlin\n",
      "5:TypeScript\n",
      "\n",
      "Adding 1\n",
      "Adding 1\n",
      "Adding 2\n",
      "Adding 3\n",
      "Selected Language: ['Java', 'Java', 'C', 'C++']\n"
     ]
    }
   ],
   "source": [
    "op =\"xx\"\n",
    "lan = []\n",
    "\n",
    "while op !='0':\n",
    "    if op in \"12345\":\n",
    "        print(f\"Adding {op}\")\n",
    "        if op == '1':\n",
    "            lan.append(\"Java\")\n",
    "        elif op =='2':\n",
    "            lan.append(\"C\")\n",
    "        elif op =='3':\n",
    "            lan.append(\"C++\")\n",
    "        elif op =='4':\n",
    "            lan.append(\"Kotlin\")\n",
    "        elif op =='5':\n",
    "            lan.append(\"TypeScript\")\n",
    "    else:\n",
    "        print(\"Please add options from the list below:\")\n",
    "        print(\"1:Java\")\n",
    "        print(\"2:C\")\n",
    "        print(\"3:C++\")\n",
    "        print(\"4:Kotlin\")\n",
    "        print(\"5:TypeScript\")\n",
    "        print()\n",
    "    \n",
    "    op = input()\n",
    "\n",
    "print(f\"Selected Language: {lan}\")\n",
    "      "
   ]
  }
 ]
}