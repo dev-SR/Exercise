{
 "metadata": {
  "language_info": {
   "codemirror_mode": {
    "name": "ipython",
    "version": 3
   },
   "file_extension": ".py",
   "mimetype": "text/x-python",
   "name": "python",
   "nbconvert_exporter": "python",
   "pygments_lexer": "ipython3",
   "version": "3.8.8"
  },
  "orig_nbformat": 2,
  "kernelspec": {
   "name": "python3",
   "display_name": "Python 3.8.8 64-bit ('base': conda)"
  },
  "interpreter": {
   "hash": "b3ba2566441a7c06988d0923437866b63cedc61552a5af99d1f4fb67d367b25f"
  }
 },
 "nbformat": 4,
 "nbformat_minor": 2,
 "cells": [
  {
   "cell_type": "code",
   "execution_count": 31,
   "metadata": {},
   "outputs": [
    {
     "output_type": "stream",
     "name": "stdout",
     "text": [
      "Hello World\n<class 'str'>\n"
     ]
    }
   ],
   "source": [
    "s = \"Hello World\"\n",
    "print(s);\n",
    "print(type(s))"
   ]
  },
  {
   "source": [
    "# Indexing a String\n",
    "\n",
    "- accessing one character based on the position"
   ],
   "cell_type": "markdown",
   "metadata": {}
  },
  {
   "cell_type": "code",
   "execution_count": 32,
   "metadata": {},
   "outputs": [
    {
     "output_type": "stream",
     "name": "stdout",
     "text": [
      "H\ne\n"
     ]
    }
   ],
   "source": [
    "print(s[0])\n",
    "print(s[1])"
   ]
  },
  {
   "cell_type": "code",
   "execution_count": 5,
   "metadata": {},
   "outputs": [
    {
     "output_type": "stream",
     "name": "stdout",
     "text": [
      "11\n"
     ]
    }
   ],
   "source": [
    "# total number of character in a string\n",
    "print(len(s))"
   ]
  },
  {
   "cell_type": "code",
   "execution_count": 6,
   "metadata": {},
   "outputs": [
    {
     "output_type": "stream",
     "name": "stdout",
     "text": [
      "d\n"
     ]
    }
   ],
   "source": [
    "# last element of string\n",
    "print(s[len(s) -1])"
   ]
  },
  {
   "source": [
    "## Negative Indexing\n",
    "\n",
    "- writting `len(str)` is optional\n",
    "- That's how Python give rise to Negative Indexing"
   ],
   "cell_type": "markdown",
   "metadata": {}
  },
  {
   "cell_type": "code",
   "execution_count": 7,
   "metadata": {},
   "outputs": [
    {
     "output_type": "stream",
     "name": "stdout",
     "text": [
      "d\nW\n"
     ]
    }
   ],
   "source": [
    "print(s[-1]) # last character\n",
    "print(s[-5]) # 5th last character"
   ]
  },
  {
   "source": [
    "# String Slicing\n",
    "\n",
    "- extracting multiple characters from a string(sub string)\n",
    "- Syntax: `str[start_idx : end_idx + 1]`\n",
    "\n",
    "> NOTE: **slice is exclusive**"
   ],
   "cell_type": "markdown",
   "metadata": {}
  },
  {
   "source": [
    "print(s[:2]) \n",
    "print(s[0:2])"
   ],
   "cell_type": "code",
   "metadata": {},
   "execution_count": 42,
   "outputs": [
    {
     "output_type": "stream",
     "name": "stdout",
     "text": [
      "He\nHe\n"
     ]
    }
   ]
  },
  {
   "cell_type": "code",
   "execution_count": 47,
   "metadata": {},
   "outputs": [
    {
     "output_type": "stream",
     "name": "stdout",
     "text": [
      "llo World\nHello World\nHello World\n"
     ]
    }
   ],
   "source": [
    "print(s[2:]) \n",
    "print(s[:]) \n",
    "print(s[:2]+s[2:]) "
   ]
  },
  {
   "source": [
    "**Slicing with Negative Numbers**"
   ],
   "cell_type": "markdown",
   "metadata": {}
  },
  {
   "cell_type": "code",
   "execution_count": 10,
   "metadata": {},
   "outputs": [
    {
     "output_type": "stream",
     "name": "stdout",
     "text": [
      "Hello Wor\nd\n World\n Worl\n"
     ]
    }
   ],
   "source": [
    "print(s[:-2]) # all char exept last 2\n",
    "print(s[-1])\n",
    "print(s[-6:])\n",
    "print(s[-6:-1]) # left to right"
   ]
  },
  {
   "source": [
    "### Using a Step in a Slice"
   ],
   "cell_type": "markdown",
   "metadata": {}
  },
  {
   "cell_type": "code",
   "execution_count": 49,
   "metadata": {},
   "outputs": [
    {
     "output_type": "stream",
     "name": "stdout",
     "text": [
      "Hello World\nHloWrd\nel ol\n"
     ]
    }
   ],
   "source": [
    "print(s[::1])\n",
    "print(s[::2])\n",
    "print(s[1:10:2])"
   ]
  },
  {
   "source": [
    "### Slicing Backwards"
   ],
   "cell_type": "markdown",
   "metadata": {}
  },
  {
   "cell_type": "code",
   "execution_count": 50,
   "metadata": {},
   "outputs": [
    {
     "output_type": "stream",
     "name": "stdout",
     "text": [
      "dlroW olleH\ndlr\ndrWolH\n"
     ]
    }
   ],
   "source": [
    "print(s[::-1])   # in reverse order\n",
    "print(s[:-4:-1]) # last 3 char, in reverse order.\n",
    "print(s[::-2])"
   ]
  },
  {
   "source": [
    "# Iterating through string"
   ],
   "cell_type": "markdown",
   "metadata": {}
  },
  {
   "cell_type": "code",
   "execution_count": 54,
   "metadata": {},
   "outputs": [
    {
     "output_type": "stream",
     "name": "stdout",
     "text": [
      "helloWorld\n**********\n"
     ]
    }
   ],
   "source": [
    "print(\"hello\" \"World\")\n",
    "print(\"*\" * 10)"
   ]
  },
  {
   "cell_type": "code",
   "execution_count": 56,
   "metadata": {},
   "outputs": [
    {
     "output_type": "stream",
     "name": "stdout",
     "text": [
      "True\nFalse\n"
     ]
    }
   ],
   "source": [
    "print(\"Hell\" in s)\n",
    "print(\"Haven\" in s)"
   ]
  },
  {
   "cell_type": "code",
   "execution_count": 12,
   "metadata": {},
   "outputs": [
    {
     "output_type": "stream",
     "name": "stdout",
     "text": [
      "A\nB\nC\nD\n\n(0, 'A')\n(1, 'B')\n(2, 'C')\n(3, 'D')\n\n1 : A\n2 : B\n3 : C\n4 : D\n"
     ]
    }
   ],
   "source": [
    "for e in \"ABCD\":\n",
    "    print(e)\n",
    "\n",
    "print()\n",
    "\n",
    "# To get also indexes use enumerate()\n",
    "for e in enumerate(\"ABCD\"):\n",
    "    print(e)\n",
    "\n",
    "print()\n",
    "\n",
    "for i,v in enumerate(\"ABCD\"):\n",
    "    print(f\"{i+1} : {v}\")"
   ]
  },
  {
   "source": [
    "# Methods related to Strings"
   ],
   "cell_type": "markdown",
   "metadata": {}
  },
  {
   "cell_type": "code",
   "execution_count": 14,
   "metadata": {},
   "outputs": [
    {
     "output_type": "execute_result",
     "data": {
      "text/plain": [
       "'hello world'"
      ]
     },
     "metadata": {},
     "execution_count": 14
    }
   ],
   "source": [
    "# to lowercase:\n",
    "s.lower()"
   ]
  },
  {
   "cell_type": "code",
   "execution_count": 15,
   "metadata": {},
   "outputs": [
    {
     "output_type": "execute_result",
     "data": {
      "text/plain": [
       "'HELLO WORLD'"
      ]
     },
     "metadata": {},
     "execution_count": 15
    }
   ],
   "source": [
    "# to uppercase:\n",
    "s.upper()"
   ]
  },
  {
   "cell_type": "code",
   "execution_count": 16,
   "metadata": {},
   "outputs": [
    {
     "output_type": "execute_result",
     "data": {
      "text/plain": [
       "'Hello World'"
      ]
     },
     "metadata": {},
     "execution_count": 16
    }
   ],
   "source": [
    "# Capital first char of each Word\n",
    "s.title()"
   ]
  },
  {
   "cell_type": "code",
   "execution_count": 21,
   "metadata": {},
   "outputs": [
    {
     "output_type": "execute_result",
     "data": {
      "text/plain": [
       "2"
      ]
     },
     "metadata": {},
     "execution_count": 21
    }
   ],
   "source": [
    "# returns the first index of the world , -1 otherwise\n",
    "\n",
    "s.find(\"llo\")"
   ]
  },
  {
   "cell_type": "code",
   "execution_count": 20,
   "metadata": {},
   "outputs": [
    {
     "output_type": "execute_result",
     "data": {
      "text/plain": [
       "['Hello', 'World']"
      ]
     },
     "metadata": {},
     "execution_count": 20
    }
   ],
   "source": [
    "s.split(\" \")"
   ]
  },
  {
   "cell_type": "code",
   "execution_count": null,
   "metadata": {},
   "outputs": [],
   "source": []
  },
  {
   "source": [
    "# String Replacement Fields and F-String"
   ],
   "cell_type": "markdown",
   "metadata": {}
  },
  {
   "cell_type": "code",
   "execution_count": 60,
   "metadata": {},
   "outputs": [
    {
     "output_type": "stream",
     "name": "stdout",
     "text": [
      "Myself Soikat. My age is 22 years\nMyself Soikat. My age is 22 years\nMyself Soikat. \nMy age is 22 years\n"
     ]
    }
   ],
   "source": [
    "name= \"Soikat\"\n",
    "age=22\n",
    "print(\"Myself {0}. My age is {1} years\".format(name,age))\n",
    "print(f\"Myself {name}. My age is {age} years\")\n",
    "print(\"\"\"Myself {0}. \n",
    "My age is {1} years\"\"\".format(name,age))"
   ]
  },
  {
   "source": [
    "# String Formatting"
   ],
   "cell_type": "markdown",
   "metadata": {}
  },
  {
   "cell_type": "code",
   "execution_count": 61,
   "metadata": {},
   "outputs": [
    {
     "output_type": "stream",
     "name": "stdout",
     "text": [
      "No. 1 squared is 1 and cubed is 1\nNo. 2 squared is 4 and cubed is 8\nNo. 3 squared is 9 and cubed is 27\nNo. 4 squared is 16 and cubed is 64\nNo. 5 squared is 25 and cubed is 125\nNo. 6 squared is 36 and cubed is 216\nNo. 7 squared is 49 and cubed is 343\nNo. 8 squared is 64 and cubed is 512\nNo. 9 squared is 81 and cubed is 729\n"
     ]
    }
   ],
   "source": [
    "for i in range(1,10):\n",
    "    print(\"No. {0} squared is {1} and cubed is {2}\".format(i,i**2,i**3))"
   ]
  },
  {
   "cell_type": "code",
   "execution_count": 62,
   "metadata": {},
   "outputs": [
    {
     "output_type": "stream",
     "name": "stdout",
     "text": [
      "No.  1 squared is    1 and cubed is    1\nNo.  2 squared is    4 and cubed is    8\nNo.  3 squared is    9 and cubed is   27\nNo.  4 squared is   16 and cubed is   64\nNo.  5 squared is   25 and cubed is  125\nNo.  6 squared is   36 and cubed is  216\nNo.  7 squared is   49 and cubed is  343\nNo.  8 squared is   64 and cubed is  512\nNo.  9 squared is   81 and cubed is  729\n"
     ]
    }
   ],
   "source": [
    "for i in range(1,10):\n",
    "    print(\"No. {0:2} squared is {1:4} and cubed is {2:4}\".format(i,i**2,i**3))"
   ]
  },
  {
   "cell_type": "code",
   "execution_count": 63,
   "metadata": {},
   "outputs": [
    {
     "output_type": "stream",
     "name": "stdout",
     "text": [
      "No.  1 squared is 1    and cubed is 1   \nNo.  2 squared is 4    and cubed is 8   \nNo.  3 squared is 9    and cubed is 27  \nNo.  4 squared is 16   and cubed is 64  \nNo.  5 squared is 25   and cubed is 125 \nNo.  6 squared is 36   and cubed is 216 \nNo.  7 squared is 49   and cubed is 343 \nNo.  8 squared is 64   and cubed is 512 \nNo.  9 squared is 81   and cubed is 729 \n"
     ]
    }
   ],
   "source": [
    "for i in range(1,10):\n",
    "    print(\"No. {0:2} squared is {1:<4} and cubed is {2:<4}\".format(i,i**2,i**3)) # left align"
   ]
  },
  {
   "cell_type": "code",
   "execution_count": 64,
   "metadata": {},
   "outputs": [
    {
     "output_type": "stream",
     "name": "stdout",
     "text": [
      "No.  1 squared is 1    and cubed is  1  \nNo.  2 squared is 4    and cubed is  8  \nNo.  3 squared is 9    and cubed is  27 \nNo.  4 squared is 16   and cubed is  64 \nNo.  5 squared is 25   and cubed is 125 \nNo.  6 squared is 36   and cubed is 216 \nNo.  7 squared is 49   and cubed is 343 \nNo.  8 squared is 64   and cubed is 512 \nNo.  9 squared is 81   and cubed is 729 \n"
     ]
    }
   ],
   "source": [
    "for i in range(1,10):\n",
    "    print(\"No. {0:2} squared is {1:<4} and cubed is {2:^4}\".format(i,i**2,i**3)) # center align"
   ]
  },
  {
   "cell_type": "code",
   "execution_count": 80,
   "metadata": {},
   "outputs": [
    {
     "output_type": "stream",
     "name": "stdout",
     "text": [
      "Pi is ~ 3.142857142857143\nPi is ~             3.142857\nPi is ~ 3.142857            \nPi is ~ 3.14285714285714279370\n"
     ]
    }
   ],
   "source": [
    "print(\"Pi is ~ {0}\".format(22/7))\n",
    "print(\"Pi is ~ {0:20f}\".format(22/7))\n",
    "print(\"Pi is ~ {0:<20f}\".format(22/7))\n",
    "print(\"Pi is ~ {0:<20.20f}\".format(22/7))"
   ]
  },
  {
   "source": [
    "# Few Operations on Strings"
   ],
   "cell_type": "markdown",
   "metadata": {}
  },
  {
   "cell_type": "code",
   "execution_count": 23,
   "metadata": {},
   "outputs": [
    {
     "output_type": "execute_result",
     "data": {
      "text/plain": [
       "'abcpqr'"
      ]
     },
     "metadata": {},
     "execution_count": 23
    }
   ],
   "source": [
    "\"abc\" + \"pqr\""
   ]
  },
  {
   "cell_type": "code",
   "execution_count": 34,
   "metadata": {},
   "outputs": [
    {
     "output_type": "error",
     "ename": "TypeError",
     "evalue": "can only concatenate str (not \"int\") to str",
     "traceback": [
      "\u001b[1;31m---------------------------------------------------------------------------\u001b[0m",
      "\u001b[1;31mTypeError\u001b[0m                                 Traceback (most recent call last)",
      "\u001b[1;32m<ipython-input-34-67b336e1625b>\u001b[0m in \u001b[0;36m<module>\u001b[1;34m\u001b[0m\n\u001b[0;32m      1\u001b[0m \u001b[1;31m# cannnot concatenate other data type\u001b[0m\u001b[1;33m\u001b[0m\u001b[1;33m\u001b[0m\u001b[1;33m\u001b[0m\u001b[0m\n\u001b[1;32m----> 2\u001b[1;33m \u001b[1;34m\"abc\"\u001b[0m \u001b[1;33m+\u001b[0m \u001b[1;36m1\u001b[0m\u001b[1;33m\u001b[0m\u001b[1;33m\u001b[0m\u001b[0m\n\u001b[0m",
      "\u001b[1;31mTypeError\u001b[0m: can only concatenate str (not \"int\") to str"
     ]
    }
   ],
   "source": [
    "# cannnot concatenate other data type\n",
    "\"abc\" + 1"
   ]
  },
  {
   "cell_type": "code",
   "execution_count": 38,
   "metadata": {},
   "outputs": [
    {
     "output_type": "execute_result",
     "data": {
      "text/plain": [
       "'abc 1'"
      ]
     },
     "metadata": {},
     "execution_count": 38
    }
   ],
   "source": [
    "# type conversion is the way\n",
    "\"abc \" + str(1)\n",
    "\n",
    "# Note: TypeError: 'str' object is not callable (Python)\n",
    "\n",
    "# You can get this error if you have variable `str` and trying to call `str() function.\n",
    "\n",
    "# Resolve with: `del str` \n"
   ]
  },
  {
   "cell_type": "code",
   "execution_count": 39,
   "metadata": {},
   "outputs": [
    {
     "output_type": "execute_result",
     "data": {
      "text/plain": [
       "'*****'"
      ]
     },
     "metadata": {},
     "execution_count": 39
    }
   ],
   "source": [
    "\"*\"*5"
   ]
  },
  {
   "cell_type": "code",
   "execution_count": null,
   "metadata": {},
   "outputs": [],
   "source": []
  }
 ]
}