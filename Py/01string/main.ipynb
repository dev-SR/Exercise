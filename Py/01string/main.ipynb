{
 "metadata": {
  "language_info": {
   "codemirror_mode": {
    "name": "ipython",
    "version": 3
   },
   "file_extension": ".py",
   "mimetype": "text/x-python",
   "name": "python",
   "nbconvert_exporter": "python",
   "pygments_lexer": "ipython3",
   "version": "3.8.8"
  },
  "orig_nbformat": 2,
  "kernelspec": {
   "name": "python388jvsc74a57bd0b3ba2566441a7c06988d0923437866b63cedc61552a5af99d1f4fb67d367b25f",
   "display_name": "Python 3.8.8 64-bit ('base': conda)"
  }
 },
 "nbformat": 4,
 "nbformat_minor": 2,
 "cells": [
  {
   "cell_type": "code",
   "execution_count": 46,
   "metadata": {},
   "outputs": [],
   "source": [
    "#      012345678910\n",
    "str = \"Hello World\""
   ]
  },
  {
   "source": [
    "# SLICE"
   ],
   "cell_type": "markdown",
   "metadata": {}
  },
  {
   "source": [
    "### slice is exclusive"
   ],
   "cell_type": "markdown",
   "metadata": {}
  },
  {
   "source": [
    "print(str[:2]) \n",
    "print(str[0:2])"
   ],
   "cell_type": "code",
   "metadata": {},
   "execution_count": 42,
   "outputs": [
    {
     "output_type": "stream",
     "name": "stdout",
     "text": [
      "He\nHe\n"
     ]
    }
   ]
  },
  {
   "cell_type": "code",
   "execution_count": 47,
   "metadata": {},
   "outputs": [
    {
     "output_type": "stream",
     "name": "stdout",
     "text": [
      "llo World\nHello World\nHello World\n"
     ]
    }
   ],
   "source": [
    "print(str[2:]) \n",
    "print(str[:]) \n",
    "print(str[:2]+str[2:]) "
   ]
  },
  {
   "source": [
    "### Slicing with Negative Numbers"
   ],
   "cell_type": "markdown",
   "metadata": {}
  },
  {
   "cell_type": "code",
   "execution_count": 48,
   "metadata": {},
   "outputs": [
    {
     "output_type": "stream",
     "name": "stdout",
     "text": [
      "d\n World\n Worl\n"
     ]
    }
   ],
   "source": [
    "print(str[-1])\n",
    "print(str[-6:])\n",
    "print(str[-6:-1]) # left to right"
   ]
  },
  {
   "source": [
    "### Using a Step in a Slice"
   ],
   "cell_type": "markdown",
   "metadata": {}
  },
  {
   "cell_type": "code",
   "execution_count": 49,
   "metadata": {},
   "outputs": [
    {
     "output_type": "stream",
     "name": "stdout",
     "text": [
      "Hello World\nHloWrd\nel ol\n"
     ]
    }
   ],
   "source": [
    "print(str[::1])\n",
    "print(str[::2])\n",
    "print(str[1:10:2])"
   ]
  },
  {
   "source": [
    "### Slicing Backwards"
   ],
   "cell_type": "markdown",
   "metadata": {}
  },
  {
   "cell_type": "code",
   "execution_count": 50,
   "metadata": {},
   "outputs": [
    {
     "output_type": "stream",
     "name": "stdout",
     "text": [
      "dlroW olleH\ndlr\ndrWolH\n"
     ]
    }
   ],
   "source": [
    "print(str[::-1])   # in reverse order\n",
    "print(str[:-4:-1]) # last 3 char, in reverse order.\n",
    "print(str[::-2])"
   ]
  },
  {
   "source": [
    "# STRING Operators"
   ],
   "cell_type": "markdown",
   "metadata": {}
  },
  {
   "cell_type": "code",
   "execution_count": 54,
   "metadata": {},
   "outputs": [
    {
     "output_type": "stream",
     "name": "stdout",
     "text": [
      "helloWorld\n**********\n"
     ]
    }
   ],
   "source": [
    "print(\"hello\" \"World\")\n",
    "print(\"*\" * 10)"
   ]
  },
  {
   "cell_type": "code",
   "execution_count": 56,
   "metadata": {},
   "outputs": [
    {
     "output_type": "stream",
     "name": "stdout",
     "text": [
      "True\nFalse\n"
     ]
    }
   ],
   "source": [
    "print(\"Hell\" in str)\n",
    "print(\"Haven\" in str)"
   ]
  },
  {
   "cell_type": "code",
   "execution_count": 4,
   "metadata": {},
   "outputs": [
    {
     "output_type": "stream",
     "name": "stdout",
     "text": [
      "(0, 'A')\n(1, 'B')\n(2, 'C')\n(3, 'D')\n\n1 : A\n2 : B\n3 : C\n4 : D\n"
     ]
    }
   ],
   "source": [
    "for e in enumerate(\"ABCD\"):\n",
    "    print(e)\n",
    "\n",
    "print()\n",
    "\n",
    "for i,v in enumerate(\"ABCD\"):\n",
    "    print(f\"{i+1} : {v}\")"
   ]
  },
  {
   "source": [
    "# String Replacement Fields and F-String"
   ],
   "cell_type": "markdown",
   "metadata": {}
  },
  {
   "cell_type": "code",
   "execution_count": 60,
   "metadata": {},
   "outputs": [
    {
     "output_type": "stream",
     "name": "stdout",
     "text": [
      "Myself Soikat. My age is 22 years\nMyself Soikat. My age is 22 years\nMyself Soikat. \nMy age is 22 years\n"
     ]
    }
   ],
   "source": [
    "name= \"Soikat\"\n",
    "age=22\n",
    "print(\"Myself {0}. My age is {1} years\".format(name,age))\n",
    "print(f\"Myself {name}. My age is {age} years\")\n",
    "print(\"\"\"Myself {0}. \n",
    "My age is {1} years\"\"\".format(name,age))"
   ]
  },
  {
   "source": [
    "# String Formatting"
   ],
   "cell_type": "markdown",
   "metadata": {}
  },
  {
   "cell_type": "code",
   "execution_count": 61,
   "metadata": {},
   "outputs": [
    {
     "output_type": "stream",
     "name": "stdout",
     "text": [
      "No. 1 squared is 1 and cubed is 1\nNo. 2 squared is 4 and cubed is 8\nNo. 3 squared is 9 and cubed is 27\nNo. 4 squared is 16 and cubed is 64\nNo. 5 squared is 25 and cubed is 125\nNo. 6 squared is 36 and cubed is 216\nNo. 7 squared is 49 and cubed is 343\nNo. 8 squared is 64 and cubed is 512\nNo. 9 squared is 81 and cubed is 729\n"
     ]
    }
   ],
   "source": [
    "for i in range(1,10):\n",
    "    print(\"No. {0} squared is {1} and cubed is {2}\".format(i,i**2,i**3))"
   ]
  },
  {
   "cell_type": "code",
   "execution_count": 62,
   "metadata": {},
   "outputs": [
    {
     "output_type": "stream",
     "name": "stdout",
     "text": [
      "No.  1 squared is    1 and cubed is    1\nNo.  2 squared is    4 and cubed is    8\nNo.  3 squared is    9 and cubed is   27\nNo.  4 squared is   16 and cubed is   64\nNo.  5 squared is   25 and cubed is  125\nNo.  6 squared is   36 and cubed is  216\nNo.  7 squared is   49 and cubed is  343\nNo.  8 squared is   64 and cubed is  512\nNo.  9 squared is   81 and cubed is  729\n"
     ]
    }
   ],
   "source": [
    "for i in range(1,10):\n",
    "    print(\"No. {0:2} squared is {1:4} and cubed is {2:4}\".format(i,i**2,i**3))"
   ]
  },
  {
   "cell_type": "code",
   "execution_count": 63,
   "metadata": {},
   "outputs": [
    {
     "output_type": "stream",
     "name": "stdout",
     "text": [
      "No.  1 squared is 1    and cubed is 1   \nNo.  2 squared is 4    and cubed is 8   \nNo.  3 squared is 9    and cubed is 27  \nNo.  4 squared is 16   and cubed is 64  \nNo.  5 squared is 25   and cubed is 125 \nNo.  6 squared is 36   and cubed is 216 \nNo.  7 squared is 49   and cubed is 343 \nNo.  8 squared is 64   and cubed is 512 \nNo.  9 squared is 81   and cubed is 729 \n"
     ]
    }
   ],
   "source": [
    "for i in range(1,10):\n",
    "    print(\"No. {0:2} squared is {1:<4} and cubed is {2:<4}\".format(i,i**2,i**3)) # left align"
   ]
  },
  {
   "cell_type": "code",
   "execution_count": 64,
   "metadata": {},
   "outputs": [
    {
     "output_type": "stream",
     "name": "stdout",
     "text": [
      "No.  1 squared is 1    and cubed is  1  \nNo.  2 squared is 4    and cubed is  8  \nNo.  3 squared is 9    and cubed is  27 \nNo.  4 squared is 16   and cubed is  64 \nNo.  5 squared is 25   and cubed is 125 \nNo.  6 squared is 36   and cubed is 216 \nNo.  7 squared is 49   and cubed is 343 \nNo.  8 squared is 64   and cubed is 512 \nNo.  9 squared is 81   and cubed is 729 \n"
     ]
    }
   ],
   "source": [
    "for i in range(1,10):\n",
    "    print(\"No. {0:2} squared is {1:<4} and cubed is {2:^4}\".format(i,i**2,i**3)) # center align"
   ]
  },
  {
   "cell_type": "code",
   "execution_count": 80,
   "metadata": {},
   "outputs": [
    {
     "output_type": "stream",
     "name": "stdout",
     "text": [
      "Pi is ~ 3.142857142857143\nPi is ~             3.142857\nPi is ~ 3.142857            \nPi is ~ 3.14285714285714279370\n"
     ]
    }
   ],
   "source": [
    "print(\"Pi is ~ {0}\".format(22/7))\n",
    "print(\"Pi is ~ {0:20f}\".format(22/7))\n",
    "print(\"Pi is ~ {0:<20f}\".format(22/7))\n",
    "print(\"Pi is ~ {0:<20.20f}\".format(22/7))"
   ]
  },
  {
   "cell_type": "code",
   "execution_count": null,
   "metadata": {},
   "outputs": [],
   "source": []
  }
 ]
}