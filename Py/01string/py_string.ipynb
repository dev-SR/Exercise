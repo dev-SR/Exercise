{
 "metadata": {
  "language_info": {
   "codemirror_mode": {
    "name": "ipython",
    "version": 3
   },
   "file_extension": ".py",
   "mimetype": "text/x-python",
   "name": "python",
   "nbconvert_exporter": "python",
   "pygments_lexer": "ipython3",
   "version": "3.8.8"
  },
  "orig_nbformat": 2,
  "kernelspec": {
   "name": "python3",
   "display_name": "Python 3.8.8 64-bit ('base': conda)"
  },
  "interpreter": {
   "hash": "b3ba2566441a7c06988d0923437866b63cedc61552a5af99d1f4fb67d367b25f"
  }
 },
 "nbformat": 4,
 "nbformat_minor": 2,
 "cells": [
  {
   "cell_type": "code",
   "execution_count": 31,
   "metadata": {},
   "outputs": [
    {
     "output_type": "stream",
     "name": "stdout",
     "text": [
      "Hello World\n<class 'str'>\n"
     ]
    }
   ],
   "source": [
    "s = \"Hello World\"\n",
    "print(s);\n",
    "print(type(s))"
   ]
  },
  {
   "source": [
    "## Multiline String"
   ],
   "cell_type": "markdown",
   "metadata": {}
  },
  {
   "cell_type": "code",
   "execution_count": 40,
   "metadata": {},
   "outputs": [],
   "source": [
    "#  using triple quotes\n",
    "ms = \"\"\"My Name is Jhon.\n",
    "I am the owner of dev.com\n",
    "Dev is a very popular website in Developers community.\"\"\"\n",
    "\n",
    "# using brackets\n",
    "ms = (\"My Name is Jhon. \"\n",
    "     \"I am the owner of dev.com\"\n",
    "     \"Dev is a very popular website in Developers community.\")\n",
    "\n",
    "# using backslash\n",
    "ms = \"My Name is Jhon. \" \\\n",
    "    \"I am the owner of JournalDev.com and \" \\\n",
    "    \"JournalDev is a very popular website in Developers community.\"\n"
   ]
  },
  {
   "source": [
    "##  String Concatenation"
   ],
   "cell_type": "markdown",
   "metadata": {}
  },
  {
   "source": [
    "### String Concatenation using + Operator"
   ],
   "cell_type": "markdown",
   "metadata": {}
  },
  {
   "cell_type": "code",
   "execution_count": 50,
   "metadata": {},
   "outputs": [
    {
     "output_type": "stream",
     "name": "stdout",
     "text": [
      "ApplePieSauce\nHello4\nHello Demo[10]\n"
     ]
    }
   ],
   "source": [
    "\n",
    "s1 = 'Apple'\n",
    "s2 = 'Pie'\n",
    "s3 = 'Sauce'\n",
    "s4 = s1 + s2 + s3\n",
    "print(s4)\n",
    "\n",
    "\n",
    "#  However, the arguments must be a string.\n",
    "# Let’s see how to concatenate a string to integer or another object.\n",
    "print('Hello' + str(4))\n",
    "\n",
    "class Demo:\n",
    "    id = 0\n",
    "    def __init__(self, i):\n",
    "        self.id = i\n",
    "    def __str__(self):\n",
    "        return 'Demo[' + str(self.id) + ']'\n",
    "\n",
    "print('Hello ' + str(Demo(10)))"
   ]
  },
  {
   "source": [
    "### String concatenation using join() function\n",
    "\n",
    "We can use join() function to concatenate string with a separator. It’s useful when we have a sequence of strings, for example list or tuple of strings.\n",
    "\n",
    "If you don’t want a separator, then use join() function with an empty string."
   ],
   "cell_type": "markdown",
   "metadata": {}
  },
  {
   "cell_type": "code",
   "execution_count": 46,
   "metadata": {},
   "outputs": [
    {
     "output_type": "stream",
     "name": "stdout",
     "text": [
      "Concatenated String using join() = HelloWorld\nConcatenated String using join() and whitespaces = Hello World\n"
     ]
    }
   ],
   "source": [
    "s1 = 'Hello'\n",
    "s2 = 'World'\n",
    "print('Concatenated String using join() =', \"\".join([s1, s2]))\n",
    "print('Concatenated String using join() and whitespaces =', \" \".join([s1, s2]))"
   ]
  },
  {
   "source": [
    "### String Concatenation using f-string"
   ],
   "cell_type": "markdown",
   "metadata": {}
  },
  {
   "cell_type": "code",
   "execution_count": 51,
   "metadata": {},
   "outputs": [
    {
     "output_type": "stream",
     "name": "stdout",
     "text": [
      "String Concatenation using f-string = Hello World\nJhon age is 34 and d=Demo[10]\n"
     ]
    }
   ],
   "source": [
    "\n",
    "s1 = 'Hello'\n",
    "s2 = 'World'\n",
    "\n",
    "s3 = f'{s1} {s2}'\n",
    "print('String Concatenation using f-string =', s3)\n",
    "\n",
    "name = 'Jhon'\n",
    "age = 34\n",
    "d = Demo(10)\n",
    "\n",
    "print(f'{name} age is {age} and d={d}')\n"
   ]
  },
  {
   "source": [
    "### String Concatenation using format() function and % operator\n",
    "\n",
    "We can use string format() function for string concatenation and formatting too."
   ],
   "cell_type": "markdown",
   "metadata": {}
  },
  {
   "cell_type": "code",
   "execution_count": 61,
   "metadata": {},
   "outputs": [
    {
     "output_type": "stream",
     "name": "stdout",
     "text": [
      "String Concatenation using format() = Hello-World\nString Concatenation using format() = Hello World\n\nString Concatenation using % Operator = Hello World\nString Concatenation using % Operator = Hello World from Me - 2021\n"
     ]
    }
   ],
   "source": [
    "\n",
    "s1 = 'Hello'\n",
    "s2 = 'World'\n",
    "\n",
    "s3 = \"{}-{}\".format(s1, s2)\n",
    "print('String Concatenation using format() =', s3)\n",
    "\n",
    "s3 = \"{in1} {in2}\".format(in1=s1, in2=s2)\n",
    "print('String Concatenation using format() =', s3)\n",
    "\n",
    "\n",
    "# We can use % operator for string formatting, it can be used for string concatenation too. It’s useful when we want to concatenate strings and perform simple formatting.\n",
    "\n",
    "print()\n",
    "s1 = 'Hello'\n",
    "s2 = 'World'\n",
    "\n",
    "s3 = \"%s %s\" % (s1, s2)\n",
    "print('String Concatenation using % Operator =', s3)\n",
    "\n",
    "s3 = \"%s %s from Me - %d\" % (s1, s2, 2021)\n",
    "print('String Concatenation using % Operator =', s3)\n"
   ]
  },
  {
   "source": [
    "## Indexing a String\n",
    "\n",
    "- accessing one character based on the position"
   ],
   "cell_type": "markdown",
   "metadata": {}
  },
  {
   "cell_type": "code",
   "execution_count": 32,
   "metadata": {},
   "outputs": [
    {
     "output_type": "stream",
     "name": "stdout",
     "text": [
      "H\ne\n"
     ]
    }
   ],
   "source": [
    "print(s[0])\n",
    "print(s[1])"
   ]
  },
  {
   "cell_type": "code",
   "execution_count": 5,
   "metadata": {},
   "outputs": [
    {
     "output_type": "stream",
     "name": "stdout",
     "text": [
      "11\n"
     ]
    }
   ],
   "source": [
    "# total number of character in a string\n",
    "print(len(s))"
   ]
  },
  {
   "cell_type": "code",
   "execution_count": 6,
   "metadata": {},
   "outputs": [
    {
     "output_type": "stream",
     "name": "stdout",
     "text": [
      "d\n"
     ]
    }
   ],
   "source": [
    "# last element of string\n",
    "print(s[len(s) -1])"
   ]
  },
  {
   "source": [
    "### Negative Indexing\n",
    "\n",
    "- writting `len(str)` is optional\n",
    "- That's how Python give rise to Negative Indexing"
   ],
   "cell_type": "markdown",
   "metadata": {}
  },
  {
   "cell_type": "code",
   "execution_count": 7,
   "metadata": {},
   "outputs": [
    {
     "output_type": "stream",
     "name": "stdout",
     "text": [
      "d\nW\n"
     ]
    }
   ],
   "source": [
    "print(s[-1]) # last character\n",
    "print(s[-5]) # 5th last character"
   ]
  },
  {
   "source": [
    "## Iterating through string"
   ],
   "cell_type": "markdown",
   "metadata": {}
  },
  {
   "cell_type": "code",
   "execution_count": 54,
   "metadata": {},
   "outputs": [
    {
     "output_type": "stream",
     "name": "stdout",
     "text": [
      "helloWorld\n**********\n"
     ]
    }
   ],
   "source": [
    "print(\"hello\" \"World\")\n",
    "print(\"*\" * 10)"
   ]
  },
  {
   "cell_type": "code",
   "execution_count": 56,
   "metadata": {},
   "outputs": [
    {
     "output_type": "stream",
     "name": "stdout",
     "text": [
      "True\nFalse\n"
     ]
    }
   ],
   "source": [
    "print(\"Hell\" in s)\n",
    "print(\"Haven\" in s)"
   ]
  },
  {
   "cell_type": "code",
   "execution_count": 12,
   "metadata": {},
   "outputs": [
    {
     "output_type": "stream",
     "name": "stdout",
     "text": [
      "A\nB\nC\nD\n\n(0, 'A')\n(1, 'B')\n(2, 'C')\n(3, 'D')\n\n1 : A\n2 : B\n3 : C\n4 : D\n"
     ]
    }
   ],
   "source": [
    "for e in \"ABCD\":\n",
    "    print(e)\n",
    "\n",
    "print()\n",
    "\n",
    "# To get also indexes use enumerate()\n",
    "for e in enumerate(\"ABCD\"):\n",
    "    print(e)\n",
    "\n",
    "print()\n",
    "\n",
    "for i,v in enumerate(\"ABCD\"):\n",
    "    print(f\"{i+1} : {v}\")"
   ]
  },
  {
   "source": [
    "## Methods related to Strings\n",
    "\n",
    "### Boolean String Methods\n",
    "- `str.isupper()`: String’s alphabetic characters are all uppercase\n",
    "- `str.islower()`: String’s alphabetic characters are all lower case\n",
    "- `str.istitle()`: String is in title case\n",
    "str.isspace(): String only consists of whitespace characters\n",
    "- `str.isnumeric()`: String only contains numeric characters\n",
    "- `str.isalnum()`: String contains only alphanumeric characters (no symbols)\n",
    "- `str.isalpha()`: String contains only alphabetic characters (no numbers or symbols)\n"
   ],
   "cell_type": "markdown",
   "metadata": {}
  },
  {
   "cell_type": "code",
   "execution_count": 14,
   "metadata": {},
   "outputs": [
    {
     "output_type": "execute_result",
     "data": {
      "text/plain": [
       "'hello world'"
      ]
     },
     "metadata": {},
     "execution_count": 14
    }
   ],
   "source": [
    "# to lowercase:\n",
    "s.lower()"
   ]
  },
  {
   "cell_type": "code",
   "execution_count": 15,
   "metadata": {},
   "outputs": [
    {
     "output_type": "execute_result",
     "data": {
      "text/plain": [
       "'HELLO WORLD'"
      ]
     },
     "metadata": {},
     "execution_count": 15
    }
   ],
   "source": [
    "# to uppercase:\n",
    "s.upper()"
   ]
  },
  {
   "cell_type": "code",
   "execution_count": 16,
   "metadata": {},
   "outputs": [
    {
     "output_type": "execute_result",
     "data": {
      "text/plain": [
       "'Hello World'"
      ]
     },
     "metadata": {},
     "execution_count": 16
    }
   ],
   "source": [
    "# Capital first char of each Word\n",
    "s.title()"
   ]
  },
  {
   "source": [
    "### Starts With and Ends With"
   ],
   "cell_type": "markdown",
   "metadata": {}
  },
  {
   "cell_type": "code",
   "execution_count": 2,
   "metadata": {},
   "outputs": [
    {
     "output_type": "stream",
     "name": "stdout",
     "text": [
      "True\nFalse\n"
     ]
    }
   ],
   "source": [
    "full_name = \"Bill Jefferson\"\n",
    "print(full_name.startswith(\"Bill\"))\n",
    "full_name = \"Bill Jefferson\"\n",
    "print(full_name.startswith(\"Bill\", 3))"
   ]
  },
  {
   "source": [
    "### find()\n",
    "\n",
    "- `find(searchText, [starting_position, [ ending_position]])\n",
    "`\n",
    "- returns the first index of the world , -1 otherwise\n"
   ],
   "cell_type": "markdown",
   "metadata": {}
  },
  {
   "cell_type": "code",
   "execution_count": 16,
   "metadata": {},
   "outputs": [
    {
     "output_type": "stream",
     "name": "stdout",
     "text": [
      "-1\n13\n1\n"
     ]
    }
   ],
   "source": [
    "# define a string data\n",
    "str = 'Learn Python programming'\n",
    "# Search the position of the word 'python' from the starting\n",
    "print(str.find('python'))  \n",
    "\n",
    "# Search the string 'program' from the position 10\n",
    "print(str.find('program', 10))\n",
    "\n",
    "# Search the word 'earn' from 0 position and within next 5 characters  \n",
    "print(str.find('earn', 0, 5))"
   ]
  },
  {
   "source": [
    "### index()\n",
    "\n",
    "- `string.index(search_text [, start [, end]])`\n",
    "\n",
    "index() method works like find() method but there is a single difference between these methods. Both methods return the position of the search text if the string exists in the main string. If the search text does not exist in the main string then `find()` method returns  `-1` but `index()` method generates a `ValueError.`"
   ],
   "cell_type": "markdown",
   "metadata": {}
  },
  {
   "cell_type": "code",
   "execution_count": 26,
   "metadata": {},
   "outputs": [
    {
     "output_type": "stream",
     "name": "stdout",
     "text": [
      "12\n21\n7\nThe search string is not found\n"
     ]
    }
   ],
   "source": [
    "strVal = 'Python is a powerful programming language.'\n",
    "\n",
    "# Apply index() method with different arfuments\n",
    "try:\n",
    "   \n",
    "    print(strVal.index('powerful'))\n",
    "    print(strVal.index('program',10))\n",
    "    print(strVal.index('is', 5, 15))\n",
    "    print(strVal.index('his', 0, 25))\n",
    "# Catch value error and print the custom message\n",
    "except ValueError:\n",
    "\n",
    "    print(\"The search string is not found\")"
   ]
  },
  {
   "source": [
    "### replace()\n",
    "\n",
    "- `string.replace(search_string, replace_string [,counter])`\n"
   ],
   "cell_type": "markdown",
   "metadata": {}
  },
  {
   "cell_type": "code",
   "execution_count": 19,
   "metadata": {},
   "outputs": [
    {
     "output_type": "stream",
     "name": "stdout",
     "text": [
      "Original string: I like PHP but I like Python more\nReplaced string: I like Java but I like Python more\n\nOriginal string: I like PHP but I like Python more\nReplaced string: I dislike PHP but I like Python more\n"
     ]
    }
   ],
   "source": [
    "# Define a string data\n",
    "str = \"I like PHP but I like Python more\"\n",
    "\n",
    "replace_str1 = str.replace(\"PHP\", \"Java\")\n",
    "print(\"Original string:\", str)\n",
    "print(\"Replaced string:\", replace_str1)\n",
    "\n",
    "replace_str2 = str.replace(\"like\", \"dislike\",1)\n",
    "print(\"\\nOriginal string:\",str)\n",
    "print(\"Replaced string:\",replace_str2)"
   ]
  },
  {
   "source": [
    "### Split and Join Strings"
   ],
   "cell_type": "markdown",
   "metadata": {}
  },
  {
   "source": [
    "print(\"x\".join([\"A\", \"B\",\"C\"]))\n",
    "print(\"\".join([\"A\", \"B\",\"C\"]))"
   ],
   "cell_type": "code",
   "metadata": {},
   "execution_count": 11,
   "outputs": [
    {
     "output_type": "stream",
     "name": "stdout",
     "text": [
      "AexBexC\nABC\n"
     ]
    }
   ]
  },
  {
   "source": [
    "What has happened is the join() string has gone through each letter in the string variable and added an X after each letter."
   ],
   "cell_type": "markdown",
   "metadata": {}
  },
  {
   "cell_type": "code",
   "execution_count": 25,
   "metadata": {},
   "outputs": [
    {
     "output_type": "stream",
     "name": "stdout",
     "text": [
      "Joining each character with comma: p,y,t,h,o,n\nJoining list of strings with space: I like programming\nJoining tuple of strings with colon: 011156432:Mehnaz:10:45\n"
     ]
    }
   ],
   "source": [
    "# Apply join on string data\n",
    "print('Joining each character with comma:', ','.join('python'))\n",
    "# Apply join on list of strings\n",
    "print('Joining list of strings with space:', ' '.join(['I','like', 'programming']))\n",
    "# Apply join on tuple of strings\n",
    "print('Joining tuple of strings with colon:', ':'.join(('011156432','Mehnaz', '10','45')))"
   ]
  },
  {
   "cell_type": "code",
   "execution_count": 15,
   "metadata": {},
   "outputs": [
    {
     "output_type": "stream",
     "name": "stdout",
     "text": [
      "['Hello,', 'World']\n['Hello', 'World']\n"
     ]
    }
   ],
   "source": [
    "s= \"Hello, World\"\n",
    "r=s.split(\" \")\n",
    "print(r)\n",
    "s= \"Hello, World\"\n",
    "r=s.split(\", \")\n",
    "print(r)"
   ]
  },
  {
   "source": [
    "### strip() \n",
    "\n",
    "- `strip()` method is used to remove white spaces from both sides of a string. \n",
    "- This method does not take any argument.\n",
    "\n",
    "There are two related methods for removing white spaces. \n",
    "\n",
    "- `lstrip()` method to remove the white space from the left side \n",
    "- `rstrip()` method to remove the white space from the right side of the string. "
   ],
   "cell_type": "markdown",
   "metadata": {}
  },
  {
   "cell_type": "code",
   "execution_count": 24,
   "metadata": {},
   "outputs": [
    {
     "output_type": "stream",
     "name": "stdout",
     "text": [
      "The output before strip():       Welcome to Py     \nThe output after strip(): Welcome to Py (Added to check)\n"
     ]
    }
   ],
   "source": [
    "strVal = \"      Welcome to Py     \"\n",
    "\n",
    "# Print output before and after strip\n",
    "print(\"The output before strip():\", strVal)\n",
    "print(\"The output after strip():\", strVal.strip(),\"(Added to check)\")"
   ]
  },
  {
   "source": [
    "## Substring \n",
    "\n",
    "- We can create a substring using `string slicing`. \n",
    "- We can use `split()` function to create a `list of substring`s based on specified `delimiter`.\n",
    "\n",
    "```python\n",
    "s = 'My Name is Jhon'\n",
    "\n",
    "# create substring using slice\n",
    "name = s[11:]\n",
    "print(name) #Jhon\n",
    "\n",
    "# list of substrings using split\n",
    "l1 = s.split()\n",
    "print(l1) # ['My', 'Name', 'is', 'Jhon']\n",
    "```\n",
    "\n",
    "### string slicing\n",
    "- extracting multiple characters from a string(sub string)\n",
    "- Syntax: `str[start_idx : end_idx + 1]`\n",
    "\n",
    "> NOTE: **slice is exclusive**"
   ],
   "cell_type": "markdown",
   "metadata": {}
  },
  {
   "cell_type": "code",
   "execution_count": 1,
   "metadata": {},
   "outputs": [
    {
     "output_type": "stream",
     "name": "stdout",
     "text": [
      "He\nHe\n"
     ]
    }
   ],
   "source": [
    "s = \"Hello World\"\n",
    "print(s[:2]) \n",
    "print(s[0:2])"
   ]
  },
  {
   "cell_type": "code",
   "execution_count": 2,
   "metadata": {},
   "outputs": [
    {
     "output_type": "stream",
     "name": "stdout",
     "text": [
      "llo World\nHello World\nHello World\n"
     ]
    }
   ],
   "source": [
    "print(s[2:]) \n",
    "print(s[:]) \n",
    "print(s[:2]+s[2:]) "
   ]
  },
  {
   "source": [
    "#### Slicing with Negative index"
   ],
   "cell_type": "markdown",
   "metadata": {}
  },
  {
   "cell_type": "code",
   "execution_count": 4,
   "metadata": {},
   "outputs": [
    {
     "output_type": "stream",
     "name": "stdout",
     "text": [
      "Hello Wor\nd\n World\n Worl\n"
     ]
    }
   ],
   "source": [
    "print(s[:-2]) # all char exept last 2\n",
    "print(s[-1])\n",
    "print(s[-6:])\n",
    "print(s[-6:-1]) # left to right"
   ]
  },
  {
   "source": [
    "#### Using a Step in a Slice"
   ],
   "cell_type": "markdown",
   "metadata": {}
  },
  {
   "cell_type": "code",
   "execution_count": null,
   "metadata": {},
   "outputs": [],
   "source": [
    "print(s[::1])\n",
    "print(s[::2])\n",
    "print(s[1:10:2])"
   ]
  },
  {
   "source": [
    "#### Slicing Backwards"
   ],
   "cell_type": "markdown",
   "metadata": {}
  },
  {
   "cell_type": "code",
   "execution_count": 5,
   "metadata": {},
   "outputs": [
    {
     "output_type": "stream",
     "name": "stdout",
     "text": [
      "dlroW olleH\ndlr\ndrWolH\n"
     ]
    }
   ],
   "source": [
    "print(s[::-1])   # in reverse order\n",
    "print(s[:-4:-1]) # last 3 char, in reverse order.\n",
    "print(s[::-2])"
   ]
  },
  {
   "source": [
    "### Checking if substring is found"
   ],
   "cell_type": "markdown",
   "metadata": {}
  },
  {
   "cell_type": "code",
   "execution_count": 10,
   "metadata": {},
   "outputs": [
    {
     "output_type": "stream",
     "name": "stdout",
     "text": [
      "Substring found\nSubstring found\n"
     ]
    }
   ],
   "source": [
    "\n",
    "s = 'My Name is Jhon'\n",
    "\n",
    "if 'Name' in s:\n",
    "    print('Substring found')\n",
    "\n",
    "if s.find('Name') != -1:\n",
    "    print('Substring found')"
   ]
  },
  {
   "source": [
    "### Count of Substring Occurrence\n",
    "\n",
    "-We can use count() function to find the number of occurrences of a substring in the string."
   ],
   "cell_type": "markdown",
   "metadata": {}
  },
  {
   "cell_type": "code",
   "execution_count": 14,
   "metadata": {},
   "outputs": [
    {
     "output_type": "stream",
     "name": "stdout",
     "text": [
      "Substring count = 1\nSubstring count = 3\n"
     ]
    }
   ],
   "source": [
    "s = 'My Name is Jhon'\n",
    "\n",
    "print('Substring count =', s.count('a'))\n",
    "\n",
    "s = 'This Is The Best Theorem'\n",
    "print('Substring count =', s.count('Th'))"
   ]
  },
  {
   "source": [
    "### Find all indexes of substring"
   ],
   "cell_type": "markdown",
   "metadata": {}
  },
  {
   "cell_type": "code",
   "execution_count": 15,
   "metadata": {},
   "outputs": [
    {
     "output_type": "stream",
     "name": "stdout",
     "text": [
      "[0, 8, 17]\n"
     ]
    }
   ],
   "source": [
    "def find_all_indexes(input_str, substring):\n",
    "    l2 = []\n",
    "    length = len(input_str)\n",
    "    index = 0\n",
    "    while index < length:\n",
    "        i = input_str.find(substring, index)\n",
    "        if i == -1:\n",
    "            return l2\n",
    "        l2.append(i)\n",
    "        index = i + 1\n",
    "    return l2\n",
    "\n",
    "\n",
    "s = 'This Is The Best Theorem'\n",
    "print(find_all_indexes(s, 'Th'))"
   ]
  },
  {
   "source": [
    "## Reverse a String"
   ],
   "cell_type": "markdown",
   "metadata": {}
  },
  {
   "source": [
    "### Python Reverse String using Slicing"
   ],
   "cell_type": "markdown",
   "metadata": {}
  },
  {
   "cell_type": "code",
   "execution_count": 65,
   "metadata": {},
   "outputs": [
    {
     "output_type": "stream",
     "name": "stdout",
     "text": [
      "Reverse String using slicing = FE∂çBA\nReverse String using recursion = FE∂çBA\n"
     ]
    }
   ],
   "source": [
    "\n",
    "def reverse_slicing(s):\n",
    "    return s[::-1]\n",
    "\n",
    "input_str = 'ABç∂EF'\n",
    "print('Reverse String using slicing =', reverse_slicing(input_str))\n",
    "\n",
    "\n",
    "def reverse_recursion(s):\n",
    "    if len(s) == 0:\n",
    "        return s\n",
    "    else:\n",
    "        return reverse_recursion(s[1:]) + s[0]\n",
    "print('Reverse String using recursion =', reverse_recursion(input_str))\n"
   ]
  },
  {
   "source": [
    "### for loop"
   ],
   "cell_type": "markdown",
   "metadata": {}
  },
  {
   "cell_type": "code",
   "execution_count": 64,
   "metadata": {},
   "outputs": [
    {
     "output_type": "stream",
     "name": "stdout",
     "text": [
      "Reverse String using for loop = FE∂çBA\n"
     ]
    }
   ],
   "source": [
    "def reverse_for_loop(s):\n",
    "    s1 = ''\n",
    "    for c in s:\n",
    "        s1 = c + s1  # appending chars in reverse order\n",
    "    return s1\n",
    "\n",
    "input_str = 'ABç∂EF'\n",
    "print('Reverse String using for loop =', reverse_for_loop(input_str))\n"
   ]
  },
  {
   "source": [
    "### list.reverse()"
   ],
   "cell_type": "markdown",
   "metadata": {}
  },
  {
   "cell_type": "code",
   "execution_count": null,
   "metadata": {},
   "outputs": [],
   "source": [
    "def reverse_list(s):\n",
    "    temp_list = list(s)\n",
    "    temp_list.reverse()\n",
    "    return ''.join(temp_list)"
   ]
  },
  {
   "source": [
    "## String Replacement Fields and F-String"
   ],
   "cell_type": "markdown",
   "metadata": {}
  },
  {
   "cell_type": "code",
   "execution_count": 19,
   "metadata": {},
   "outputs": [
    {
     "output_type": "stream",
     "name": "stdout",
     "text": [
      "Myself Soikat. My age is 22 years\n\nMyself Soikat. \nMy age is 22 years\nMyself Soikat. My age is 22 years\n\nLambda Example: 20.45\nLambda Square Example: 25\n\nquoted string\n{ 40 }\n{40}\n"
     ]
    }
   ],
   "source": [
    "name= \"Soikat\"\n",
    "age=22\n",
    "print(\"Myself {0}. My age is {1} years\".format(name,age))\n",
    "print()\n",
    "#  Multiline String using triple quotes\n",
    "print(\"\"\"Myself {0}. \n",
    "My age is {1} years\"\"\".format(name,age))\n",
    "\n",
    "# Literal String Interpolation\n",
    "print(f\"Myself {name}. My age is {age} years\")\n",
    "\n",
    "# Lambda expressions with f-strings\n",
    "print()\n",
    "x = -20.45\n",
    "print(f'Lambda Example: {(lambda x: abs(x)) (x)}')\n",
    "print(f'Lambda Square Example: {(lambda x: pow(x, 2)) (5)}')\n",
    "\n",
    "print()\n",
    "# f-strings miscellaneous examples\n",
    "\n",
    "print(f'{\"quoted string\"}')\n",
    "print(f'{{ {4*10} }}')\n",
    "print(f'{{{4*10}}}')\n",
    "\n"
   ]
  },
  {
   "source": [
    "## More on String Formatting"
   ],
   "cell_type": "markdown",
   "metadata": {}
  },
  {
   "cell_type": "code",
   "execution_count": 61,
   "metadata": {},
   "outputs": [
    {
     "output_type": "stream",
     "name": "stdout",
     "text": [
      "No. 1 squared is 1 and cubed is 1\nNo. 2 squared is 4 and cubed is 8\nNo. 3 squared is 9 and cubed is 27\nNo. 4 squared is 16 and cubed is 64\nNo. 5 squared is 25 and cubed is 125\nNo. 6 squared is 36 and cubed is 216\nNo. 7 squared is 49 and cubed is 343\nNo. 8 squared is 64 and cubed is 512\nNo. 9 squared is 81 and cubed is 729\n"
     ]
    }
   ],
   "source": [
    "#for i in range(1,10):\n",
    "    print(\"No. {0} squared is {1} and cubed is {2}\".format(i,i**2,i**3))"
   ]
  },
  {
   "cell_type": "code",
   "execution_count": 62,
   "metadata": {},
   "outputs": [
    {
     "output_type": "stream",
     "name": "stdout",
     "text": [
      "No.  1 squared is    1 and cubed is    1\nNo.  2 squared is    4 and cubed is    8\nNo.  3 squared is    9 and cubed is   27\nNo.  4 squared is   16 and cubed is   64\nNo.  5 squared is   25 and cubed is  125\nNo.  6 squared is   36 and cubed is  216\nNo.  7 squared is   49 and cubed is  343\nNo.  8 squared is   64 and cubed is  512\nNo.  9 squared is   81 and cubed is  729\n"
     ]
    }
   ],
   "source": [
    "for i in range(1,10):\n",
    "    print(\"No. {0:2} squared is {1:4} and cubed is {2:4}\".format(i,i**2,i**3))"
   ]
  },
  {
   "cell_type": "code",
   "execution_count": 63,
   "metadata": {},
   "outputs": [
    {
     "output_type": "stream",
     "name": "stdout",
     "text": [
      "No.  1 squared is 1    and cubed is 1   \nNo.  2 squared is 4    and cubed is 8   \nNo.  3 squared is 9    and cubed is 27  \nNo.  4 squared is 16   and cubed is 64  \nNo.  5 squared is 25   and cubed is 125 \nNo.  6 squared is 36   and cubed is 216 \nNo.  7 squared is 49   and cubed is 343 \nNo.  8 squared is 64   and cubed is 512 \nNo.  9 squared is 81   and cubed is 729 \n"
     ]
    }
   ],
   "source": [
    "for i in range(1,10):\n",
    "    print(\"No. {0:2} squared is {1:<4} and cubed is {2:<4}\".format(i,i**2,i**3)) # left align"
   ]
  },
  {
   "cell_type": "code",
   "execution_count": 64,
   "metadata": {},
   "outputs": [
    {
     "output_type": "stream",
     "name": "stdout",
     "text": [
      "No.  1 squared is 1    and cubed is  1  \nNo.  2 squared is 4    and cubed is  8  \nNo.  3 squared is 9    and cubed is  27 \nNo.  4 squared is 16   and cubed is  64 \nNo.  5 squared is 25   and cubed is 125 \nNo.  6 squared is 36   and cubed is 216 \nNo.  7 squared is 49   and cubed is 343 \nNo.  8 squared is 64   and cubed is 512 \nNo.  9 squared is 81   and cubed is 729 \n"
     ]
    }
   ],
   "source": [
    "for i in range(1,10):\n",
    "    print(\"No. {0:2} squared is {1:<4} and cubed is {2:^4}\".format(i,i**2,i**3)) # center align"
   ]
  },
  {
   "cell_type": "code",
   "execution_count": 80,
   "metadata": {},
   "outputs": [
    {
     "output_type": "stream",
     "name": "stdout",
     "text": [
      "Pi is ~ 3.142857142857143\nPi is ~             3.142857\nPi is ~ 3.142857            \nPi is ~ 3.14285714285714279370\n"
     ]
    }
   ],
   "source": [
    "print(\"Pi is ~ {0}\".format(22/7))\n",
    "print(\"Pi is ~ {0:20f}\".format(22/7))\n",
    "print(\"Pi is ~ {0:<20f}\".format(22/7))\n",
    "print(\"Pi is ~ {0:<20.20f}\".format(22/7))"
   ]
  },
  {
   "source": [
    "## Raw String"
   ],
   "cell_type": "markdown",
   "metadata": {}
  },
  {
   "cell_type": "code",
   "execution_count": 38,
   "metadata": {},
   "outputs": [
    {
     "output_type": "stream",
     "name": "stdout",
     "text": [
      "Hi\\nHello\n\\'\nab\\\\\n\\\\\\\"\n"
     ]
    }
   ],
   "source": [
    "raw_s = r'Hi\\nHello'\n",
    "print(raw_s)\n",
    "raw_s = r'\\''\n",
    "print(raw_s)\n",
    "\n",
    "raw_s = r'ab\\\\'\n",
    "print(raw_s)\n",
    "\n",
    "raw_s = R'\\\\\\\"'  # prefix can be 'R' or 'r'\n",
    "print(raw_s)"
   ]
  },
  {
   "source": [
    "## String Conversion"
   ],
   "cell_type": "markdown",
   "metadata": {}
  },
  {
   "source": [
    "## Few Operations on Strings"
   ],
   "cell_type": "markdown",
   "metadata": {}
  },
  {
   "cell_type": "code",
   "execution_count": 23,
   "metadata": {},
   "outputs": [
    {
     "output_type": "execute_result",
     "data": {
      "text/plain": [
       "'abcpqr'"
      ]
     },
     "metadata": {},
     "execution_count": 23
    }
   ],
   "source": [
    "\"abc\" + \"pqr\""
   ]
  },
  {
   "cell_type": "code",
   "execution_count": 34,
   "metadata": {},
   "outputs": [
    {
     "output_type": "error",
     "ename": "TypeError",
     "evalue": "can only concatenate str (not \"int\") to str",
     "traceback": [
      "\u001b[1;31m---------------------------------------------------------------------------\u001b[0m",
      "\u001b[1;31mTypeError\u001b[0m                                 Traceback (most recent call last)",
      "\u001b[1;32m<ipython-input-34-67b336e1625b>\u001b[0m in \u001b[0;36m<module>\u001b[1;34m\u001b[0m\n\u001b[0;32m      1\u001b[0m \u001b[1;31m# cannnot concatenate other data type\u001b[0m\u001b[1;33m\u001b[0m\u001b[1;33m\u001b[0m\u001b[1;33m\u001b[0m\u001b[0m\n\u001b[1;32m----> 2\u001b[1;33m \u001b[1;34m\"abc\"\u001b[0m \u001b[1;33m+\u001b[0m \u001b[1;36m1\u001b[0m\u001b[1;33m\u001b[0m\u001b[1;33m\u001b[0m\u001b[0m\n\u001b[0m",
      "\u001b[1;31mTypeError\u001b[0m: can only concatenate str (not \"int\") to str"
     ]
    }
   ],
   "source": [
    "# cannnot concatenate other data type\n",
    "\"abc\" + 1"
   ]
  },
  {
   "cell_type": "code",
   "execution_count": 38,
   "metadata": {},
   "outputs": [
    {
     "output_type": "execute_result",
     "data": {
      "text/plain": [
       "'abc 1'"
      ]
     },
     "metadata": {},
     "execution_count": 38
    }
   ],
   "source": [
    "# type conversion is the way\n",
    "\"abc \" + str(1)\n",
    "\n",
    "# Note: TypeError: 'str' object is not callable (Python)\n",
    "\n",
    "# You can get this error if you have variable `str` and trying to call `str() function.\n",
    "\n",
    "# Resolve with: `del str` \n"
   ]
  },
  {
   "cell_type": "code",
   "execution_count": 39,
   "metadata": {},
   "outputs": [
    {
     "output_type": "execute_result",
     "data": {
      "text/plain": [
       "'*****'"
      ]
     },
     "metadata": {},
     "execution_count": 39
    }
   ],
   "source": [
    "\"*\"*5"
   ]
  },
  {
   "source": [
    "## String Module"
   ],
   "cell_type": "markdown",
   "metadata": {}
  },
  {
   "cell_type": "code",
   "execution_count": 33,
   "metadata": {},
   "outputs": [
    {
     "output_type": "stream",
     "name": "stdout",
     "text": [
      "abcdefghijklmnopqrstuvwxyzABCDEFGHIJKLMNOPQRSTUVWXYZ\nabcdefghijklmnopqrstuvwxyz\nABCDEFGHIJKLMNOPQRSTUVWXYZ\n0123456789\n0123456789abcdefABCDEF\n \t\n\u000b\f\n!\"#$%&'()*+,-./:;<=>?@[\\]^_`{|}~\n"
     ]
    }
   ],
   "source": [
    "\n",
    "import string\n",
    "\n",
    "# string module constants\n",
    "print(string.ascii_letters)\n",
    "print(string.ascii_lowercase)\n",
    "print(string.ascii_uppercase)\n",
    "print(string.digits)\n",
    "print(string.hexdigits)\n",
    "print(string.whitespace)  # ' \\t\\n\\r\\x0b\\x0c'\n",
    "print(string.punctuation)"
   ]
  },
  {
   "source": [
    "## Python Generate Random String\n",
    "\n",
    "Let’s define the utility function to generate a random string from the given sequence of characters and specified size."
   ],
   "cell_type": "markdown",
   "metadata": {}
  },
  {
   "cell_type": "code",
   "execution_count": 25,
   "metadata": {},
   "outputs": [
    {
     "output_type": "stream",
     "name": "stdout",
     "text": [
      "abcdefghijklmnopqrstuvwxyzABCDEFGHIJKLMNOPQRSTUVWXYZ!\"#$%&'()*+,-./:;<=>?@[\\]^_`{|}~\nRandom String of length 12 = }.]~Hpem%^_:\n"
     ]
    }
   ],
   "source": [
    "\n",
    "import random\n",
    "import string\n",
    "\n",
    "def generate(str_size, allowed_chars):\n",
    "    return ''.join(random.choice(allowed_chars) for x in range(str_size))\n",
    "\n",
    "chars = string.ascii_letters + string.punctuation\n",
    "print(chars)\n",
    "\n",
    "size = 12\n",
    "print('Random String of length 12 =', generate(size, chars))"
   ]
  },
  {
   "source": [
    "We are using `random.choice()` function to select a random character from the provided sequence of characters. Then we are using for loop to run it given number of times. Then we are using string join() function to concatenate them and return the randomly generated string."
   ],
   "cell_type": "markdown",
   "metadata": {}
  },
  {
   "source": [
    "What if we want to keep the random string size as variable, say between 8 and 12 characters. Let’s tweak our function little bit to randomly select the size of the random string."
   ],
   "cell_type": "markdown",
   "metadata": {}
  },
  {
   "cell_type": "code",
   "execution_count": 30,
   "metadata": {},
   "outputs": [
    {
     "output_type": "stream",
     "name": "stdout",
     "text": [
      "Random String of random length (6-12) = ,GBJOn}gI:\n"
     ]
    }
   ],
   "source": [
    "\n",
    "import random\n",
    "from random import randint\n",
    "import string\n",
    "\n",
    "def random_string_generator_variable_size(min_size, max_size, allowed_chars):\n",
    "    return ''.join(random.choice(allowed_chars) for x in range(randint(min_size, max_size)))\n",
    "\n",
    "\n",
    "chars = string.ascii_letters + string.punctuation\n",
    "print('Random String of random length (6-12) =', random_string_generator_variable_size(6, 12, chars))\n"
   ]
  },
  {
   "source": [
    "### Random UUID Generation\n",
    "\n",
    "If you want a Unique ID based on RFC-4122 specifications, then you can use Python uuid module."
   ],
   "cell_type": "markdown",
   "metadata": {}
  },
  {
   "cell_type": "code",
   "execution_count": 31,
   "metadata": {},
   "outputs": [
    {
     "output_type": "stream",
     "name": "stdout",
     "text": [
      "Random UUID from uuid1() = 702ea43f-db64-11eb-97e3-cea4caa3e803\nRandom UUID from uuid4() = c33e26c0-ad16-416f-8777-422134629fa9\n"
     ]
    }
   ],
   "source": [
    "\n",
    "import uuid\n",
    "\n",
    "print('Random UUID from uuid1() =', uuid.uuid1())\n",
    "print('Random UUID from uuid4() =', uuid.uuid4())"
   ]
  }
 ]
}