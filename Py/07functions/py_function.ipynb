{
 "metadata": {
  "language_info": {
   "codemirror_mode": {
    "name": "ipython",
    "version": 3
   },
   "file_extension": ".py",
   "mimetype": "text/x-python",
   "name": "python",
   "nbconvert_exporter": "python",
   "pygments_lexer": "ipython3",
   "version": "3.8.8"
  },
  "orig_nbformat": 2,
  "kernelspec": {
   "name": "python3",
   "display_name": "Python 3.8.8 64-bit ('base': conda)"
  },
  "interpreter": {
   "hash": "b3ba2566441a7c06988d0923437866b63cedc61552a5af99d1f4fb67d367b25f"
  }
 },
 "nbformat": 4,
 "nbformat_minor": 2,
 "cells": [
  {
   "cell_type": "code",
   "execution_count": 3,
   "metadata": {},
   "outputs": [],
   "source": [
    "# funciton definition\n",
    "def greeting(name):\n",
    "    print(\"Good Morning \",name)"
   ]
  },
  {
   "cell_type": "code",
   "execution_count": 6,
   "metadata": {},
   "outputs": [
    {
     "output_type": "stream",
     "name": "stdout",
     "text": [
      "<function greeting at 0x000002298CFA0E50>\n<class 'function'>\n"
     ]
    }
   ],
   "source": [
    "print(greeting)\n",
    "print(type(greeting))"
   ]
  },
  {
   "cell_type": "code",
   "execution_count": 8,
   "metadata": {},
   "outputs": [
    {
     "output_type": "stream",
     "name": "stdout",
     "text": [
      "Good Morning  Jhon\n"
     ]
    }
   ],
   "source": [
    "# function calling\n",
    "greeting(\"Jhon\")"
   ]
  },
  {
   "cell_type": "code",
   "execution_count": 9,
   "metadata": {},
   "outputs": [],
   "source": [
    "def add(a,b):\n",
    "    \"\"\"\n",
    "     this is doc string\n",
    "     \n",
    "     returns sum of 2 numbers\n",
    "    \"\"\"\n",
    "    return(a+b)"
   ]
  },
  {
   "cell_type": "code",
   "execution_count": 11,
   "metadata": {},
   "outputs": [
    {
     "output_type": "stream",
     "name": "stdout",
     "text": [
      "6\n"
     ]
    }
   ],
   "source": [
    "res = add(3,3)\n",
    "print(res)"
   ]
  },
  {
   "cell_type": "code",
   "execution_count": 15,
   "metadata": {},
   "outputs": [],
   "source": [
    "def product(lst):\n",
    "    \"\"\"\n",
    "        lst : it is list\n",
    "        \n",
    "        return : product of all elements in a list\n",
    "    \"\"\"\n",
    "    s = 1\n",
    "    for i in lst:\n",
    "        s*=i\n",
    "    return s    "
   ]
  },
  {
   "cell_type": "code",
   "execution_count": 14,
   "metadata": {},
   "outputs": [
    {
     "output_type": "stream",
     "name": "stdout",
     "text": [
      "120\n"
     ]
    }
   ],
   "source": [
    "res = product([1,2,3,4,5])\n",
    "print(res)"
   ]
  },
  {
   "source": [
    "#### Note: Function can return multiple values in form of a tuple"
   ],
   "cell_type": "markdown",
   "metadata": {}
  },
  {
   "cell_type": "code",
   "execution_count": 16,
   "metadata": {},
   "outputs": [],
   "source": [
    "def cal(a,b):\n",
    "    return(a+b,a-b,a*b,a/b)"
   ]
  },
  {
   "cell_type": "code",
   "execution_count": 18,
   "metadata": {},
   "outputs": [
    {
     "output_type": "stream",
     "name": "stdout",
     "text": [
      "(5, -1, 6, 0.6666666666666666)\n6\n<class 'tuple'>\n"
     ]
    }
   ],
   "source": [
    "res = cal(2,3)\n",
    "print(res)\n",
    "print(res[2])\n",
    "print(type(res))"
   ]
  },
  {
   "source": [
    "## Default Parameters "
   ],
   "cell_type": "markdown",
   "metadata": {}
  },
  {
   "cell_type": "code",
   "execution_count": 19,
   "metadata": {},
   "outputs": [],
   "source": [
    "def intro(name,age=20):\n",
    "    print(\"Hello\",name)\n",
    "    print(\"I'm \",age,\" years old.\")"
   ]
  },
  {
   "cell_type": "code",
   "execution_count": 21,
   "metadata": {},
   "outputs": [
    {
     "output_type": "stream",
     "name": "stdout",
     "text": [
      "Hello Soikat\nI'm  20  years old.\n\nHello Soikat\nI'm  69  years old.\n"
     ]
    }
   ],
   "source": [
    "intro(\"Soikat\")\n",
    "print()\n",
    "intro(\"Soikat\",69)"
   ]
  },
  {
   "source": [
    "## args and kargs"
   ],
   "cell_type": "markdown",
   "metadata": {}
  },
  {
   "source": [
    "**arbitary arguments :** it can receive, any number of arguments"
   ],
   "cell_type": "markdown",
   "metadata": {}
  },
  {
   "cell_type": "code",
   "execution_count": 33,
   "metadata": {},
   "outputs": [],
   "source": [
    "def random_func(*args):\n",
    "    print(args)\n",
    "    print(type(args))\n",
    "    for i in args:\n",
    "        print(i**2,end=\" \")"
   ]
  },
  {
   "cell_type": "code",
   "execution_count": 34,
   "metadata": {},
   "outputs": [
    {
     "output_type": "stream",
     "name": "stdout",
     "text": [
      "(1, 2, 3, 4, 5, 1)\n<class 'tuple'>\n1 4 9 16 25 1 "
     ]
    }
   ],
   "source": [
    "random_func(1,2,3,4,5,1)"
   ]
  },
  {
   "source": [
    "**keyword arguments :** it also takes any number of arguments and stroe them in dictionary\n",
    "- `parameter` name is manadatory while calling funciton"
   ],
   "cell_type": "markdown",
   "metadata": {}
  },
  {
   "cell_type": "code",
   "execution_count": 36,
   "metadata": {},
   "outputs": [],
   "source": [
    "def intro(**kargs):\n",
    "    print(kargs)\n",
    "    print(type(kargs))\n",
    "    \n",
    "    for k,v in kargs.items():\n",
    "        print(k,\" : \",v)"
   ]
  },
  {
   "cell_type": "code",
   "execution_count": 37,
   "metadata": {},
   "outputs": [
    {
     "output_type": "stream",
     "name": "stdout",
     "text": [
      "{'name': 'soikat', 'age': 69, 'hoby': ['cricket', 'football']}\n<class 'dict'>\nname  :  soikat\nage  :  69\nhoby  :  ['cricket', 'football']\n"
     ]
    }
   ],
   "source": [
    "intro(name=\"soikat\",age=69,hoby=[\"cricket\",\"football\"])"
   ]
  },
  {
   "source": [
    "# In-built Funtions\n",
    "\n",
    " - `abs()`\n",
    " - `round()`\n",
    " - `abs()`\n",
    " - Aggregation funtions: `abs()`\n",
    " - `filter()`\n",
    " - `map()`"
   ],
   "cell_type": "markdown",
   "metadata": {}
  },
  {
   "cell_type": "code",
   "execution_count": 38,
   "metadata": {},
   "outputs": [
    {
     "output_type": "execute_result",
     "data": {
      "text/plain": [
       "1.2"
      ]
     },
     "metadata": {},
     "execution_count": 38
    }
   ],
   "source": [
    "abs(-1.2)"
   ]
  },
  {
   "cell_type": "code",
   "execution_count": 43,
   "metadata": {},
   "outputs": [
    {
     "output_type": "stream",
     "name": "stdout",
     "text": [
      "5.68\n"
     ]
    },
    {
     "output_type": "execute_result",
     "data": {
      "text/plain": [
       "6"
      ]
     },
     "metadata": {},
     "execution_count": 43
    }
   ],
   "source": [
    "n = round(5.67876,2)\n",
    "print(n)\n",
    "round(5.67876333)"
   ]
  },
  {
   "cell_type": "code",
   "execution_count": 45,
   "metadata": {},
   "outputs": [
    {
     "output_type": "execute_result",
     "data": {
      "text/plain": [
       "21"
      ]
     },
     "metadata": {},
     "execution_count": 45
    }
   ],
   "source": [
    "l = [2,6,3,2,6,2]\n",
    "\n",
    "sum(l)"
   ]
  },
  {
   "cell_type": "code",
   "execution_count": 47,
   "metadata": {},
   "outputs": [
    {
     "output_type": "execute_result",
     "data": {
      "text/plain": [
       "6"
      ]
     },
     "metadata": {},
     "execution_count": 47
    }
   ],
   "source": [
    "max(l)"
   ]
  },
  {
   "cell_type": "code",
   "execution_count": 48,
   "metadata": {},
   "outputs": [
    {
     "output_type": "execute_result",
     "data": {
      "text/plain": [
       "2"
      ]
     },
     "metadata": {},
     "execution_count": 48
    }
   ],
   "source": [
    "min(l)"
   ]
  },
  {
   "source": [
    "**`map()`**"
   ],
   "cell_type": "markdown",
   "metadata": {}
  },
  {
   "cell_type": "code",
   "execution_count": 50,
   "metadata": {},
   "outputs": [
    {
     "output_type": "stream",
     "name": "stdout",
     "text": [
      "<map object at 0x000002298D65F7F0>\n[2, 3, 4, 5, 6]\n"
     ]
    }
   ],
   "source": [
    "l =[1,2,3,4,5]\n",
    "def add_one(x):\n",
    "    return x+1;\n",
    "new_l = map(add_one,l)\n",
    "print(new_l)\n",
    "print(list(new_l))"
   ]
  },
  {
   "source": [
    "**`filter()`**"
   ],
   "cell_type": "markdown",
   "metadata": {}
  },
  {
   "cell_type": "code",
   "execution_count": 52,
   "metadata": {},
   "outputs": [
    {
     "output_type": "stream",
     "name": "stdout",
     "text": [
      "<filter object at 0x000002298D323E50>\n[2, 4, 6]\n"
     ]
    }
   ],
   "source": [
    "l = [1,2,3,4,5,6]\n",
    "\n",
    "# filter even elements\n",
    "def is_even(x):\n",
    "    return x%2==0;\n",
    "\n",
    "filtered_el = filter(is_even,l)\n",
    "print(filtered_el)\n",
    "print(list(filtered_el))"
   ]
  },
  {
   "cell_type": "code",
   "execution_count": null,
   "metadata": {},
   "outputs": [],
   "source": []
  }
 ]
}