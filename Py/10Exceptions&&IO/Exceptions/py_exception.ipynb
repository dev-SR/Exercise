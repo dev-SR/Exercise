{
 "metadata": {
  "language_info": {
   "codemirror_mode": {
    "name": "ipython",
    "version": 3
   },
   "file_extension": ".py",
   "mimetype": "text/x-python",
   "name": "python",
   "nbconvert_exporter": "python",
   "pygments_lexer": "ipython3",
   "version": "3.8.8"
  },
  "orig_nbformat": 2,
  "kernelspec": {
   "name": "python3",
   "display_name": "Python 3.8.8 64-bit ('base': conda)"
  },
  "interpreter": {
   "hash": "b3ba2566441a7c06988d0923437866b63cedc61552a5af99d1f4fb67d367b25f"
  }
 },
 "nbformat": 4,
 "nbformat_minor": 2,
 "cells": [
  {
   "source": [
    "# Exceptions in Python"
   ],
   "cell_type": "markdown",
   "metadata": {}
  },
  {
   "cell_type": "code",
   "execution_count": 1,
   "metadata": {},
   "outputs": [
    {
     "output_type": "stream",
     "name": "stdout",
     "text": [
      "You didn't enter a valid int\nExecution continues...\n"
     ]
    }
   ],
   "source": [
    "try:\n",
    "    age = int(input(\"Enter anython but number:\"))\n",
    "except ValueError:\n",
    "    print(\"You didn't enter a valid int\")\n",
    "else:\n",
    "    print(\"No exceptions thrown.\")\n",
    "print(\"Execution continues...\")"
   ]
  },
  {
   "cell_type": "code",
   "execution_count": 3,
   "metadata": {},
   "outputs": [
    {
     "output_type": "stream",
     "name": "stdout",
     "text": [
      "You didn't enter a valid int\ninvalid literal for int() with base 10: 'abc'\n<class 'ValueError'>\nExecution continues...\n"
     ]
    }
   ],
   "source": [
    "try:\n",
    "    age = int(input(\"Enter anython but number:\"))\n",
    "except ValueError as ex:\n",
    "    print(\"You didn't enter a valid int\")\n",
    "    print(ex)\n",
    "    print(type(ex))\n",
    "else:\n",
    "    print(\"No exceptions thrown.\")\n",
    "print(\"Execution continues...\")"
   ]
  },
  {
   "cell_type": "code",
   "execution_count": 6,
   "metadata": {},
   "outputs": [
    {
     "output_type": "stream",
     "name": "stdout",
     "text": [
      "You didn't enter a valid int\n",
      "division by zero\n",
      "Execution continues...\n",
      "\n",
      "You didn't enter a valid int\n",
      "division by zero\n",
      "Execution continues...\n"
     ]
    }
   ],
   "source": [
    "try:\n",
    "    age = int(input(\"Enter anython but number:\"))\n",
    "    div = 10/age\n",
    "except ValueError:\n",
    "    print(\"You didn't enter a valid int\")\n",
    "except ZeroDivisionError as ex:\n",
    "    print(\"You didn't enter a valid int\")\n",
    "    print(ex)\n",
    "else:\n",
    "    print(\"No exceptions thrown.\")\n",
    "print(\"Execution continues...\")\n",
    "\n",
    "print()\n",
    "# Avoid duplicate expt. message with..(x1,x2..)\n",
    "try:\n",
    "    age = int(input(\"Enter anython but number:\"))\n",
    "    div = 10/age\n",
    "except (ValueError,ZeroDivisionError) as ex:\n",
    "    print(\"You didn't enter a valid int\")\n",
    "    print(ex)\n",
    "else:\n",
    "    print(\"No exceptions thrown.\")\n",
    "print(\"Execution continues...\")"
   ]
  },
  {
   "source": [
    "## Releasing external resources with`Finally` and 'With`"
   ],
   "cell_type": "markdown",
   "metadata": {}
  },
  {
   "cell_type": "code",
   "execution_count": 20,
   "metadata": {},
   "outputs": [],
   "source": [
    "# try:\n",
    "#     file = open(\"app.py\")\n",
    "#     file.close()\n",
    "# except FileNotFoundError:\n",
    "#     print(\"aaa\")\n",
    "#     file.close()\n",
    "# else:\n",
    "#      file.close()\n",
    "\n",
    "# avoiding duplication with finally\n",
    "try:\n",
    "    f = open(\"app.py\")\n",
    "except FileNotFoundError:\n",
    "    print(\"aaa\")\n",
    "else:\n",
    "    print(\"No expt\")\n",
    "finally:\n",
    "    f.close()"
   ]
  },
  {
   "source": [
    "### `With` to automatically release external resources without `finally`"
   ],
   "cell_type": "markdown",
   "metadata": {}
  },
  {
   "cell_type": "code",
   "execution_count": 18,
   "metadata": {},
   "outputs": [
    {
     "output_type": "stream",
     "name": "stdout",
     "text": [
      "[Errno 2] No such file or directory: 'app.py'\n"
     ]
    }
   ],
   "source": [
    "try:\n",
    "    with open(\"app.py\") as file, open(\"another.txt\") as an:\n",
    "        print(\"File Opened...\")\n",
    "\n",
    "except FileNotFoundError as ex:\n",
    "    print(ex)\n",
    "else:\n",
    "    print(\"No expt\")"
   ]
  },
  {
   "cell_type": "code",
   "execution_count": null,
   "metadata": {},
   "outputs": [],
   "source": []
  }
 ]
}