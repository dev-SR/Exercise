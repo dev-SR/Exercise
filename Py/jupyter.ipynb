{
 "cells": [
  {
   "cell_type": "code",
   "execution_count": 2,
   "metadata": {},
   "outputs": [
    {
     "output_type": "stream",
     "name": "stdout",
     "text": [
      "**************************************************\n"
     ]
    }
   ],
   "source": [
    "units = 24 * 60 * 60\n",
    "name_of_units = \"hours\"\n",
    "\n",
    "print(\"*\" * 50)\n",
    "\n",
    "\n",
    "def days_to_units(num_of_days):\n",
    "    \"\"\"\n",
    "    Convert Days to Seconds\n",
    "    \"\"\"\n",
    "    return f\"{num_of_days} days are {num_of_days * units} {name_of_units}\""
   ]
  },
  {
   "cell_type": "code",
   "execution_count": 3,
   "metadata": {},
   "outputs": [
    {
     "output_type": "stream",
     "name": "stdout",
     "text": [
      "10 days are 864000 hours\n",
      "10 days are 864000 hours\n"
     ]
    },
    {
     "output_type": "error",
     "ename": "ValueError",
     "evalue": "invalid literal for int() with base 10: 'exit'",
     "traceback": [
      "\u001b[1;31m---------------------------------------------------------------------------\u001b[0m",
      "\u001b[1;31mValueError\u001b[0m                                Traceback (most recent call last)",
      "\u001b[1;32m<ipython-input-3-552d5f4cf844>\u001b[0m in \u001b[0;36m<module>\u001b[1;34m\u001b[0m\n\u001b[0;32m     15\u001b[0m     user_input = input(\n\u001b[0;32m     16\u001b[0m         \"Hey, enter a number of days and I will convert it ot hours\\n\")\n\u001b[1;32m---> 17\u001b[1;33m     \u001b[0mvalidate_and_execute\u001b[0m\u001b[1;33m(\u001b[0m\u001b[1;33m)\u001b[0m\u001b[1;33m\u001b[0m\u001b[1;33m\u001b[0m\u001b[0m\n\u001b[0m",
      "\u001b[1;32m<ipython-input-3-552d5f4cf844>\u001b[0m in \u001b[0;36mvalidate_and_execute\u001b[1;34m()\u001b[0m\n\u001b[0;32m      1\u001b[0m \u001b[1;32mdef\u001b[0m \u001b[0mvalidate_and_execute\u001b[0m\u001b[1;33m(\u001b[0m\u001b[1;33m)\u001b[0m\u001b[1;33m:\u001b[0m\u001b[1;33m\u001b[0m\u001b[1;33m\u001b[0m\u001b[0m\n\u001b[1;32m----> 2\u001b[1;33m     \u001b[0muser_input_number\u001b[0m \u001b[1;33m=\u001b[0m \u001b[0mint\u001b[0m\u001b[1;33m(\u001b[0m\u001b[0muser_input\u001b[0m\u001b[1;33m)\u001b[0m\u001b[1;33m\u001b[0m\u001b[1;33m\u001b[0m\u001b[0m\n\u001b[0m\u001b[0;32m      3\u001b[0m     \u001b[1;32mif\u001b[0m \u001b[0muser_input_number\u001b[0m \u001b[1;33m>\u001b[0m \u001b[1;36m0\u001b[0m\u001b[1;33m:\u001b[0m\u001b[1;33m\u001b[0m\u001b[1;33m\u001b[0m\u001b[0m\n\u001b[0;32m      4\u001b[0m         \u001b[0mcalculated_value\u001b[0m \u001b[1;33m=\u001b[0m \u001b[0mdays_to_units\u001b[0m\u001b[1;33m(\u001b[0m\u001b[0muser_input_number\u001b[0m\u001b[1;33m)\u001b[0m\u001b[1;33m\u001b[0m\u001b[1;33m\u001b[0m\u001b[0m\n\u001b[0;32m      5\u001b[0m         \u001b[0mprint\u001b[0m\u001b[1;33m(\u001b[0m\u001b[0mcalculated_value\u001b[0m\u001b[1;33m)\u001b[0m\u001b[1;33m\u001b[0m\u001b[1;33m\u001b[0m\u001b[0m\n",
      "\u001b[1;31mValueError\u001b[0m: invalid literal for int() with base 10: 'exit'"
     ]
    }
   ],
   "source": [
    "def validate_and_execute():\n",
    "    user_input_number = int(user_input)\n",
    "    if user_input_number > 0:\n",
    "        calculated_value = days_to_units(user_input_number)\n",
    "        print(calculated_value)\n",
    "    elif user_input_number == 0:\n",
    "        print(\"you entered a 0, please enter a valid positive number\")\n",
    "    else:\n",
    "        print(\"You've entered a negative number\")\n",
    "\n",
    "\n",
    "# ?test 1:\n",
    "user_input = \"\"\n",
    "while user_input != \"exit\":\n",
    "    user_input = input(\n",
    "        \"Hey, enter a number of days and I will convert it ot hours\\n\")\n",
    "    validate_and_execute()\n"
   ]
  },
  {
   "cell_type": "code",
   "execution_count": 4,
   "metadata": {},
   "outputs": [
    {
     "output_type": "stream",
     "name": "stdout",
     "text": [
      "10 days are 864000 hours\n",
      "your input is not a number. Don't ruin my program\n",
      "\n",
      "your input is not a number. Don't ruin my program\n",
      "\n",
      "You've entered a negative number\n",
      "\n",
      "your input is not a number. Don't ruin my program\n",
      "\n"
     ]
    }
   ],
   "source": [
    "# # !Handelling with try catch\n",
    "def validate_and_execute3():\n",
    "    try:\n",
    "        user_input_number = int(user_input)\n",
    "        if user_input_number > 0:\n",
    "            calculated_value = days_to_units(user_input_number)\n",
    "            print(calculated_value)\n",
    "        elif user_input_number == 0:\n",
    "            print(\"you entered a 0, please enter a valid positive number\\n\")\n",
    "        else:\n",
    "            print(\"You've entered a negative number\\n\")\n",
    "    except ValueError:\n",
    "        print(\"your input is not a number. Don't ruin my program\\n\")\n",
    "\n",
    "\n",
    "user_input = \"\"\n",
    "while user_input != \"exit\":\n",
    "    user_input = input(\"Enter a number:\\n\")\n",
    "    validate_and_execute3()"
   ]
  }
 ],
 "metadata": {
  "kernelspec": {
   "name": "python385jvsc74a57bd0b3ba2566441a7c06988d0923437866b63cedc61552a5af99d1f4fb67d367b25f",
   "display_name": "Python 3.8.5 64-bit ('base': conda)"
  },
  "language_info": {
   "codemirror_mode": {
    "name": "ipython",
    "version": 3
   },
   "file_extension": ".py",
   "mimetype": "text/x-python",
   "name": "python",
   "nbconvert_exporter": "python",
   "pygments_lexer": "ipython3",
   "version": "3.8.5"
  }
 },
 "nbformat": 4,
 "nbformat_minor": 5
}