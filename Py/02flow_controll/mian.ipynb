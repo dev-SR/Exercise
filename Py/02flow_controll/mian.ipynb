{
 "metadata": {
  "language_info": {
   "codemirror_mode": {
    "name": "ipython",
    "version": 3
   },
   "file_extension": ".py",
   "mimetype": "text/x-python",
   "name": "python",
   "nbconvert_exporter": "python",
   "pygments_lexer": "ipython3",
   "version": "3.8.5"
  },
  "orig_nbformat": 2,
  "kernelspec": {
   "name": "python385jvsc74a57bd0b3ba2566441a7c06988d0923437866b63cedc61552a5af99d1f4fb67d367b25f",
   "display_name": "Python 3.8.5 64-bit ('base': conda)"
  }
 },
 "nbformat": 4,
 "nbformat_minor": 2,
 "cells": [
  {
   "source": [
    "### Chained Comparision"
   ],
   "cell_type": "markdown",
   "metadata": {}
  },
  {
   "cell_type": "code",
   "execution_count": 4,
   "metadata": {},
   "outputs": [
    {
     "output_type": "stream",
     "name": "stdout",
     "text": [
      "Enjoy your free time\n"
     ]
    }
   ],
   "source": [
    "age = int(input(\"How old are you?\"))\n",
    "# if age >= 16 and age <= 65;\n",
    "if 16 <= age <=65:\n",
    "    print(\"Have a good day at work\")\n",
    "else:\n",
    "    print(\"Enjoy your free time\")"
   ]
  },
  {
   "source": [
    "### ! -> not"
   ],
   "cell_type": "markdown",
   "metadata": {}
  },
  {
   "cell_type": "code",
   "execution_count": 8,
   "metadata": {},
   "outputs": [
    {
     "output_type": "stream",
     "name": "stdout",
     "text": [
      "Go swimming\n"
     ]
    }
   ],
   "source": [
    "day = \"Firday\"\n",
    "temperature = 30\n",
    "raining = False\n",
    "if day == \"Saturday\" and temperature > 27 or not raining:\n",
    "    print(\"Go swimming\")\n",
    "else:\n",
    "    print(\"Learn Python\")"
   ]
  },
  {
   "source": [
    "## Truthy and Falsy Values\n",
    "> - Values that evaluate to False are considered Falsy.\n",
    "> - Values that evaluate to True are considered Truthy.\n",
    "\n",
    "## Falsy Values\n",
    "### Sequences and Collections:\n",
    "\n",
    "- Empty lists []\n",
    "- Empty tuples ()\n",
    "- Empty dictionaries {}\n",
    "- Empty sets set()\n",
    "= Empty strings \"\"\n",
    "- Empty ranges range(0)\n",
    "\n",
    "### Numbers\n",
    "\n",
    "- Zero of any numeric type.\n",
    "- Integer: 0\n",
    "- Float: 0.0\n",
    "- Complex: 0j\n",
    "\n",
    "### Constants\n",
    "\n",
    "- None\n",
    "- False\n",
    "\n",
    "## Truthy Values\n",
    "\n",
    "> By default, an object is considered true.\n",
    "\n",
    "### Truthy values include:\n",
    "\n",
    "- Non-empty sequences or collections (lists, tuples, strings, dictionaries, sets).\n",
    "- Numeric values that are not zero.\n",
    "- True"
   ],
   "cell_type": "markdown",
   "metadata": {}
  },
  {
   "cell_type": "code",
   "execution_count": 17,
   "metadata": {},
   "outputs": [
    {
     "output_type": "stream",
     "name": "stdout",
     "text": [
      "Are you the man with no name?\n"
     ]
    }
   ],
   "source": [
    "name = input(\"Please enter your name: \")\n",
    "if name:\n",
    "    print(f\"Hello, {name}\")\n",
    "else:\n",
    "    print(\"Are you the man with no name?\")"
   ]
  },
  {
   "source": [
    "# FOR"
   ],
   "cell_type": "markdown",
   "metadata": {}
  },
  {
   "cell_type": "code",
   "execution_count": 9,
   "metadata": {},
   "outputs": [
    {
     "output_type": "stream",
     "name": "stdout",
     "text": [
      ",;: ,;\n"
     ]
    },
    {
     "output_type": "execute_result",
     "data": {
      "text/plain": [
       "'9 233 372 036 854 775 807'"
      ]
     },
     "metadata": {},
     "execution_count": 9
    }
   ],
   "source": [
    "number = \"9,233;372:036 854,775;807\"\n",
    "separators = \"\"\n",
    "for char in number:\n",
    "    if not char.isnumeric():\n",
    "        separators = separators + char\n",
    "\n",
    "print(separators)\n",
    "values = \"\".join(char if char not in separators else \" \" for char in number);\n",
    "values"
   ]
  },
  {
   "source": [
    "### Continue"
   ],
   "cell_type": "markdown",
   "metadata": {}
  },
  {
   "cell_type": "code",
   "execution_count": 10,
   "metadata": {},
   "outputs": [
    {
     "output_type": "stream",
     "name": "stdout",
     "text": [
      "Buying List: milk\nBuying List: pasta\nBuying List: eggs\nBuying List: bread\n"
     ]
    }
   ],
   "source": [
    "shopping_list = ['milk','pasta','eggs','rice','bread']\n",
    "for item in shopping_list:\n",
    "    if item == 'rice':\n",
    "        continue # skip if rice\n",
    "    print(\"Buying List: \" + item)"
   ]
  },
  {
   "source": [
    "### break"
   ],
   "cell_type": "markdown",
   "metadata": {}
  },
  {
   "cell_type": "code",
   "execution_count": 12,
   "metadata": {},
   "outputs": [
    {
     "output_type": "stream",
     "name": "stdout",
     "text": [
      "Item found at postiton 3\n"
     ]
    }
   ],
   "source": [
    "shopping_list = ['milk','pasta','eggs','rice','bread']\n",
    "item_to_found = \"rice\"\n",
    "found_at = None\n",
    "\n",
    "for index in range(len(shopping_list)):\n",
    "    if shopping_list[index] == item_to_found:\n",
    "        found_at = index\n",
    "        break # stop if rice\n",
    "\n",
    "if found_at is not None:\n",
    "    print(f\"Item found at postiton {found_at}\")\n",
    "else:\n",
    "    print(f\"{item_to_found} not found\")"
   ]
  },
  {
   "source": [
    "# WHILE"
   ],
   "cell_type": "markdown",
   "metadata": {}
  },
  {
   "cell_type": "code",
   "execution_count": 16,
   "metadata": {},
   "outputs": [
    {
     "output_type": "stream",
     "name": "stdout",
     "text": [
      "Game Over\n"
     ]
    }
   ],
   "source": [
    "available = [\"north\",\"south\",\"east\",\"west\"]\n",
    "chosen = \"\"\n",
    "while chosen not in available:\n",
    "    chosen = input(\"Please chooose a direction: \")\n",
    "    if chosen.casefold() == 'quit':\n",
    "        print(\"Game Over\")\n",
    "        break\n",
    "\n",
    "if not chosen:\n",
    "    print(f\"You have choosen {chosen}\") "
   ]
  },
  {
   "source": [
    "### Guessing Game"
   ],
   "cell_type": "markdown",
   "metadata": {}
  },
  {
   "cell_type": "code",
   "execution_count": 39,
   "metadata": {},
   "outputs": [
    {
     "output_type": "stream",
     "name": "stdout",
     "text": [
      "8\n",
      "Please guess number between 1 and 8\n",
      "Please guess higher\n",
      "Please guess higher\n",
      "Please guess higher\n",
      "Please guess higher\n",
      "Well done, you guessed it\n"
     ]
    }
   ],
   "source": [
    "from random import randint\n",
    "answer = randint(1,10)\n",
    "print(answer)\n",
    "print(f\"Please guess number between 1 and {answer}\")\n",
    "\n",
    "guess = 1000\n",
    "while guess != answer:\n",
    "    guess = int(input())\n",
    "    if guess ==0:\n",
    "        break\n",
    "    if guess == answer:\n",
    "        print(\"Well done, you guessed it\")\n",
    "    else:\n",
    "        if guess < answer:\n",
    "            print(\"Please guess higher\")\n",
    "        else:\n",
    "            print(\"Please guess lower\")"
   ]
  },
  {
   "source": [
    "### Hi Lo Game"
   ],
   "cell_type": "markdown",
   "metadata": {}
  },
  {
   "cell_type": "code",
   "execution_count": null,
   "metadata": {},
   "outputs": [],
   "source": [
    "low =1 \n",
    "high =1000\n",
    "\n",
    "print(f\"Please think of a number between {low} and {high}\")\n",
    "\n",
    "guesses = 1\n",
    "guess=1000\n",
    "while True:\n",
    "    print(f\"\\t Guessing in the range of {low} and {high}\")\n",
    "    guess = low + (high -low) // 2\n",
    "    high_low = input (f\"My guess is {}.\")"
   ]
  }
 ]
}