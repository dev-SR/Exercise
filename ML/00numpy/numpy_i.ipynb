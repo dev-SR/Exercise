{
 "metadata": {
  "language_info": {
   "codemirror_mode": {
    "name": "ipython",
    "version": 3
   },
   "file_extension": ".py",
   "mimetype": "text/x-python",
   "name": "python",
   "nbconvert_exporter": "python",
   "pygments_lexer": "ipython3",
   "version": "3.8.8"
  },
  "orig_nbformat": 2,
  "kernelspec": {
   "name": "python3",
   "display_name": "Python 3.8.8 64-bit ('base': conda)"
  },
  "interpreter": {
   "hash": "b3ba2566441a7c06988d0923437866b63cedc61552a5af99d1f4fb67d367b25f"
  }
 },
 "nbformat": 4,
 "nbformat_minor": 2,
 "cells": [
  {
   "source": [
    "# NumPy"
   ],
   "cell_type": "markdown",
   "metadata": {}
  },
  {
   "cell_type": "code",
   "execution_count": 93,
   "metadata": {},
   "outputs": [],
   "source": [
    "import numpy as np"
   ]
  },
  {
   "source": [
    "## Why Numpy?\n",
    "\n",
    "- performs fast operations (because of Vectorization)\n",
    "- numpy arrays can be treated as vectors and matrices from linear algebra"
   ],
   "cell_type": "markdown",
   "metadata": {}
  },
  {
   "cell_type": "code",
   "execution_count": 7,
   "metadata": {},
   "outputs": [],
   "source": [
    "l = [1,2,3,4,5,6,7,8,9,10]"
   ]
  },
  {
   "cell_type": "code",
   "execution_count": 8,
   "metadata": {},
   "outputs": [
    {
     "output_type": "stream",
     "name": "stdout",
     "text": [
      "3.83 µs ± 575 ns per loop (mean ± std. dev. of 7 runs, 100000 loops each)\n"
     ]
    }
   ],
   "source": [
    "%timeit [i**2 for i in l]"
   ]
  },
  {
   "cell_type": "code",
   "execution_count": 11,
   "metadata": {},
   "outputs": [
    {
     "output_type": "execute_result",
     "data": {
      "text/plain": [
       "array([ 1,  2,  3,  4,  5,  6,  7,  8,  9, 10])"
      ]
     },
     "metadata": {},
     "execution_count": 11
    }
   ],
   "source": [
    "arr = np.array(l)\n",
    "arr"
   ]
  },
  {
   "cell_type": "code",
   "execution_count": 12,
   "metadata": {},
   "outputs": [
    {
     "output_type": "stream",
     "name": "stdout",
     "text": [
      "1.17 µs ± 40.9 ns per loop (mean ± std. dev. of 7 runs, 1000000 loops each)\n"
     ]
    }
   ],
   "source": [
    "%timeit arr**2"
   ]
  },
  {
   "cell_type": "code",
   "execution_count": 13,
   "metadata": {},
   "outputs": [
    {
     "output_type": "error",
     "ename": "TypeError",
     "evalue": "can only concatenate list (not \"int\") to list",
     "traceback": [
      "\u001b[1;31m---------------------------------------------------------------------------\u001b[0m",
      "\u001b[1;31mTypeError\u001b[0m                                 Traceback (most recent call last)",
      "\u001b[1;32m<ipython-input-13-9fd71c034c35>\u001b[0m in \u001b[0;36m<module>\u001b[1;34m\u001b[0m\n\u001b[0;32m      1\u001b[0m \u001b[1;31m# adding 1 to each element of this vector\u001b[0m\u001b[1;33m\u001b[0m\u001b[1;33m\u001b[0m\u001b[1;33m\u001b[0m\u001b[0m\n\u001b[1;32m----> 2\u001b[1;33m \u001b[0ml\u001b[0m \u001b[1;33m+\u001b[0m \u001b[1;36m1\u001b[0m\u001b[1;33m\u001b[0m\u001b[1;33m\u001b[0m\u001b[0m\n\u001b[0m",
      "\u001b[1;31mTypeError\u001b[0m: can only concatenate list (not \"int\") to list"
     ]
    }
   ],
   "source": [
    "# adding 1 to each element of this vector\n",
    "l + 1"
   ]
  },
  {
   "cell_type": "code",
   "execution_count": 14,
   "metadata": {},
   "outputs": [
    {
     "output_type": "execute_result",
     "data": {
      "text/plain": [
       "array([ 2,  3,  4,  5,  6,  7,  8,  9, 10, 11])"
      ]
     },
     "metadata": {},
     "execution_count": 14
    }
   ],
   "source": [
    "# but it's possible in numpy\n",
    "arr + 1"
   ]
  },
  {
   "source": [
    "### Less Memory"
   ],
   "cell_type": "markdown",
   "metadata": {}
  },
  {
   "cell_type": "code",
   "execution_count": 15,
   "metadata": {},
   "outputs": [
    {
     "output_type": "stream",
     "name": "stdout",
     "text": [
      "28000\n4000\n"
     ]
    }
   ],
   "source": [
    "import time\n",
    "import sys\n",
    "S= range(1000)\n",
    "print(sys.getsizeof(5)*len(S))\n",
    " \n",
    "D= np.arange(1000)\n",
    "print(D.size*D.itemsize)"
   ]
  },
  {
   "source": [
    "### Fast"
   ],
   "cell_type": "markdown",
   "metadata": {}
  },
  {
   "cell_type": "code",
   "execution_count": 16,
   "metadata": {},
   "outputs": [
    {
     "output_type": "stream",
     "name": "stdout",
     "text": [
      "221.99392318725586\n59.9970817565918\n"
     ]
    }
   ],
   "source": [
    "import time\n",
    "import sys\n",
    " \n",
    "SIZE = 1000000\n",
    " \n",
    "L1= range(SIZE)\n",
    "L2= range(SIZE)\n",
    "A1= np.arange(SIZE)\n",
    "A2=np.arange(SIZE)\n",
    " \n",
    "start= time.time()\n",
    "result=[(x,y) for x,y in zip(L1,L2)]\n",
    "print((time.time()-start)*1000)\n",
    " \n",
    "start=time.time()\n",
    "result= A1+A2\n",
    "print((time.time()-start)*1000)"
   ]
  },
  {
   "source": [
    "## Array creation\n",
    "\n",
    "`array`: Fundamental element in numpy is homogenous array. Numpy Arrays can be 1D, 2D, 3D ...nD\n",
    "\n",
    "Different ways to create np array:\n",
    "\n",
    "### 1) Converting Python sequences to NumPy Arrays\n",
    "\n",
    "- `np.array()`"
   ],
   "cell_type": "markdown",
   "metadata": {}
  },
  {
   "cell_type": "code",
   "execution_count": 84,
   "metadata": {},
   "outputs": [
    {
     "output_type": "stream",
     "name": "stdout",
     "text": [
      "[1 2 3 4]\n<class 'numpy.ndarray'>\n1\nshape:  (4,)\n\n[[1 2]\n [3 4]]\nshape:  (2, 2)\n"
     ]
    }
   ],
   "source": [
    "a1D = np.array([1, 2, 3, 4])\n",
    "print(a1D)\n",
    "print(type(a1D))\n",
    "print(a1D.ndim)\n",
    "print(\"shape: \",a1D.shape)  \n",
    "\n",
    "print()\n",
    "\n",
    "# 2D\n",
    "a2D = np.array([[1, 2], [3, 4]])\n",
    "print(a2D)\n",
    "print(\"shape: \",a2D.shape)  "
   ]
  },
  {
   "cell_type": "code",
   "execution_count": 85,
   "metadata": {},
   "outputs": [
    {
     "output_type": "stream",
     "name": "stdout",
     "text": [
      "[[[ 1  2]\n  [ 3  4]\n  [ 5  6]]\n\n [[ 7  8]\n  [ 9 10]\n  [11 12]]]\nshape:  (2, 3, 2)\n\n[[[ 1  2]\n  [ 3  4]]\n\n [[ 7  8]\n  [ 9 10]]\n\n [[11 12]\n  [ 5  6]]]\nshape:  (3, 2, 2)\n"
     ]
    }
   ],
   "source": [
    "# 3D\n",
    "a3D = np.array([[[1, 2], [3, 4], [5, 6]],\n",
    "                [[7, 8], [9, 10], [11,12]]])\n",
    "print(a3D)\n",
    "print(\"shape: \",a3D.shape)  # 2 Sets, 3 Rows && 2 Columns per Set\n",
    "print()\n",
    "a3D2 = np.array([[[1, 2], [3, 4]],\n",
    "                [[7, 8], [9, 10]],\n",
    "                [[11,12], [5, 6]]])\n",
    "print(a3D2)\n",
    "print(\"shape: \",a3D2.shape)  # 3 Sets, 2 Rows && 2 Columns per Set\n"
   ]
  },
  {
   "source": [
    "<div align=\"center\"><img src=\"img/3d-array-1.jpg\" alt=\"Itrtype\" class=\"\" width=\"700px\"></div>\n"
   ],
   "cell_type": "markdown",
   "metadata": {}
  },
  {
   "cell_type": "code",
   "execution_count": null,
   "metadata": {},
   "outputs": [],
   "source": []
  },
  {
   "source": [
    "### 2) Intrinsic NumPy array creation functions\n",
    "\n",
    "NumPy has over 40 built-in functions for creating arrays as laid out in the Array creation routines. These functions can be split into roughly three categories, based on the dimension of the array they create:\n",
    "\n",
    "1. 1D arrays\n",
    "2. 2D arrays\n",
    "3. ndarrays\n",
    "\n",
    "\n",
    "#### 1 - 1D array creation functions\n",
    "\n",
    "The 1D array creation functions e.g. `numpy.linspace` and `numpy.arange` generally need at least two inputs,`start` and `stop`.\n",
    "\n",
    "#### `numpy.arange(start,[end,[step]])`\n",
    "\n",
    "`numpy.arange` creates arrays with regularly incrementing values.\n",
    "\n",
    "\n",
    "\n"
   ],
   "cell_type": "markdown",
   "metadata": {}
  },
  {
   "cell_type": "code",
   "execution_count": 92,
   "metadata": {},
   "outputs": [
    {
     "output_type": "stream",
     "name": "stdout",
     "text": [
      "[0 1 2 3 4 5 6 7 8 9]\n\n[1 2 3 4 5 6 7 8 9]\n\n[1 3 5 7 9]\n"
     ]
    }
   ],
   "source": [
    "print(np.arange(10))\n",
    "\n",
    "print()\n",
    "\n",
    "print(np.arange(1,10))\n",
    "\n",
    "print()\n",
    "\n",
    "print(np.arange(1,10,2))"
   ]
  },
  {
   "source": [
    "#### `numpy.linspace(s,en,equally spaced between)` \n",
    "\n",
    "`numpy.linspace`  will create arrays with a specified number of elements, and spaced equally between the specified beginning and end values."
   ],
   "cell_type": "markdown",
   "metadata": {}
  },
  {
   "cell_type": "code",
   "execution_count": 104,
   "metadata": {},
   "outputs": [
    {
     "output_type": "stream",
     "name": "stdout",
     "text": [
      "[ 1.    3.25  5.5   7.75 10.  ]\n"
     ]
    }
   ],
   "source": [
    "print(np.linspace(1,10,5)) # from "
   ]
  },
  {
   "source": [
    "#### 2, 3 - general ndarray creation functions\n",
    "\n",
    "- `zeros()`\n",
    "- `ones()`\n",
    "- `diag()`\n",
    "- `indentity()` , `eye()`\n"
   ],
   "cell_type": "markdown",
   "metadata": {}
  },
  {
   "cell_type": "code",
   "execution_count": 114,
   "metadata": {},
   "outputs": [
    {
     "output_type": "stream",
     "name": "stdout",
     "text": [
      "[0. 0. 0. 0. 0. 0. 0. 0. 0. 0.]\n2d..............\n[[0. 0. 0.]\n [0. 0. 0.]\n [0. 0. 0.]]\n3d.............\n[[[0. 0. 0.]\n  [0. 0. 0.]\n  [0. 0. 0.]]\n\n [[0. 0. 0.]\n  [0. 0. 0.]\n  [0. 0. 0.]]]\n"
     ]
    }
   ],
   "source": [
    "print(np.zeros(10))\n",
    "print(\"2d..............\")\n",
    "print(np.zeros((3,3)))\n",
    "print(\"3d.............\")\n",
    "print(np.zeros((2,3,3)))"
   ]
  },
  {
   "cell_type": "code",
   "execution_count": 120,
   "metadata": {},
   "outputs": [
    {
     "output_type": "stream",
     "name": "stdout",
     "text": [
      "[1. 1. 1. 1. 1. 1. 1. 1. 1. 1.]\n\n[[5. 5. 5.]\n [5. 5. 5.]\n [5. 5. 5.]]\n"
     ]
    }
   ],
   "source": [
    "print(np.ones(10))\n",
    "print()\n",
    "print(np.ones((3,3)) * 5) "
   ]
  },
  {
   "cell_type": "code",
   "execution_count": 115,
   "metadata": {},
   "outputs": [
    {
     "output_type": "execute_result",
     "data": {
      "text/plain": [
       "array([[1, 0, 0, 0],\n",
       "       [0, 2, 0, 0],\n",
       "       [0, 0, 3, 0],\n",
       "       [0, 0, 0, 4]])"
      ]
     },
     "metadata": {},
     "execution_count": 115
    }
   ],
   "source": [
    "np.diag([1,2,3,4])"
   ]
  },
  {
   "cell_type": "code",
   "execution_count": 116,
   "metadata": {},
   "outputs": [
    {
     "output_type": "execute_result",
     "data": {
      "text/plain": [
       "array([[1., 0., 0., 0.],\n",
       "       [0., 1., 0., 0.],\n",
       "       [0., 0., 1., 0.],\n",
       "       [0., 0., 0., 1.]])"
      ]
     },
     "metadata": {},
     "execution_count": 116
    }
   ],
   "source": [
    "np.identity(4)"
   ]
  },
  {
   "cell_type": "code",
   "execution_count": 118,
   "metadata": {},
   "outputs": [
    {
     "output_type": "execute_result",
     "data": {
      "text/plain": [
       "array([[1., 0., 0., 0.],\n",
       "       [0., 1., 0., 0.],\n",
       "       [0., 0., 1., 0.],\n",
       "       [0., 0., 0., 1.]])"
      ]
     },
     "metadata": {},
     "execution_count": 118
    }
   ],
   "source": [
    "np.eye(4)"
   ]
  }
 ]
}